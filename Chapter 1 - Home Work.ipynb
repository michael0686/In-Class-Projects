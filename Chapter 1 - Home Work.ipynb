{
 "cells": [
  {
   "cell_type": "code",
   "execution_count": 1,
   "id": "14652ea1-7d46-43cd-aad4-bc16a8f14c58",
   "metadata": {},
   "outputs": [
    {
     "name": "stdout",
     "output_type": "stream",
     "text": [
      "Hello World\n"
     ]
    }
   ],
   "source": [
    "#HelloWorld.py\n",
    "print('Hello World')"
   ]
  },
  {
   "cell_type": "code",
   "execution_count": 5,
   "id": "cc0788a0-ec06-499e-a8e1-17c961f8bb5c",
   "metadata": {},
   "outputs": [
    {
     "name": "stdout",
     "output_type": "stream",
     "text": [
      "Hello World!\n"
     ]
    }
   ],
   "source": [
    "#HelloWorldObject.py\n",
    "msg='Hello World!'\n",
    "print(msg)"
   ]
  },
  {
   "cell_type": "code",
   "execution_count": 7,
   "id": "bb6a315b-c8dc-4c96-89da-8e55c42d8170",
   "metadata": {},
   "outputs": [
    {
     "name": "stdout",
     "output_type": "stream",
     "text": [
      "michaelaaron\n"
     ]
    }
   ],
   "source": [
    "#FullName.py\n",
    "first='michael'\n",
    "last='aaron'\n",
    "full=first+last\n",
    "print(full)"
   ]
  },
  {
   "cell_type": "code",
   "execution_count": 11,
   "id": "9fe490d9-106a-4cf7-8714-2fb0a51664e3",
   "metadata": {},
   "outputs": [
    {
     "name": "stdout",
     "output_type": "stream",
     "text": [
      "michael aaron\n"
     ]
    }
   ],
   "source": [
    "#FullNameConcatenation.py\n",
    "full_space=first+' '+last\n",
    "print(full_space)"
   ]
  },
  {
   "cell_type": "code",
   "execution_count": 15,
   "id": "9759aaa4-4041-4713-8e7b-ac913f95ab47",
   "metadata": {},
   "outputs": [
    {
     "name": "stdout",
     "output_type": "stream",
     "text": [
      "Michael Aaron\n"
     ]
    }
   ],
   "source": [
    "#FullNameStringMethods.py\n",
    "Full_Name=full_space.title()\n",
    "print(Full_Name)"
   ]
  },
  {
   "cell_type": "code",
   "execution_count": 23,
   "id": "7a872d6f-3424-44e3-b032-9e7e6d2b39d0",
   "metadata": {},
   "outputs": [
    {
     "name": "stdout",
     "output_type": "stream",
     "text": [
      "Happy 1th Birthday\n",
      "Happy 2th Birthday\n",
      "Happy 3th Birthday\n",
      "Happy 4th Birthday\n",
      "Happy 5th Birthday\n",
      "Happy 6th Birthday\n",
      "Happy 7th Birthday\n",
      "Happy 8th Birthday\n"
     ]
    }
   ],
   "source": [
    "#F-Strings.py\n",
    "for i in range(1,9,1):\n",
    "    print(f'Happy {i}th Birthday')"
   ]
  },
  {
   "cell_type": "code",
   "execution_count": 25,
   "id": "bd44723d-6008-4347-8250-35fd1a52d0bd",
   "metadata": {},
   "outputs": [
    {
     "name": "stdout",
     "output_type": "stream",
     "text": [
      "You thought it would be easyYou thought it wouldn't be strangeBut then you started codingThings never were the same\n",
      "You thought it would be easyYou thought it wouldn't be strangeBut then you started codingThings never were the same\n",
      "You thought it would be easyYou thought it wouldn't be strangeBut then you started codingThings never were the same\n",
      "You thought it would be easy You thought it wouldn't be strange But then you started coding Things never were the same\n",
      "You thought it would be easy You thought it wouldn't be strange But then you started coding Things never were the same\n",
      "You thought it would be easy You thought it wouldn't be strange But then you started coding Things never were the same\n",
      "You thought it would be easy\n",
      "You thought it wouldn't be strange\n",
      "But then you started coding\n",
      "Things never were the same\n",
      "You thought it would be easy\n",
      "You thought it wouldn't be strange\n",
      "But then you started coding\n",
      "Things never were the same\n"
     ]
    }
   ],
   "source": [
    "#ConcatenatingMoreStrings.py\n",
    "line1 = \"You thought it would be easy\"\n",
    "line2 = \"You thought it wouldn't be strange\"\n",
    "line3 = \"But then you started coding\"\n",
    "line4 = \"Things never were the same\"\n",
    "print(line1 + line2 + line3 + line4)\n",
    "print(line1 + '' + line2 + '' + line3 + '' + line4)\n",
    "print(line1,line2,line3,line4,sep='')\n",
    "#Notice that all three of the lines above produce the same output\n",
    "#Using the print() function.\n",
    "print(line1,line2,line3,line4)\n",
    "print(line1 + ' ' + line2 + ' ' + line3 + ' ' + line4)\n",
    "print(line1,line2,line3,line4,sep=' ')\n",
    "#Each of these lines of code will produce the same output\n",
    "print(line1 + '\\n' + line2 + '\\n' + line3 + '\\n' + line4)\n",
    "print(line1,line2,line3,line4,sep='\\n')\n",
    "#Both of these lines of code produce the same output using the\n",
    "#The 'newline' escape sequence denoted by '\\n'."
   ]
  },
  {
   "cell_type": "code",
   "execution_count": 1,
   "id": "b377f356-d818-430e-8f27-72595fcf2228",
   "metadata": {},
   "outputs": [
    {
     "name": "stdout",
     "output_type": "stream",
     "text": [
      "We may use 'single quotes' within double quotes\n",
      "We may use \"double quotes\" within single quotes\n"
     ]
    }
   ],
   "source": [
    "#quotesInQuotes.py\n",
    "single_in_double = \"We may use 'single quotes' within double quotes\"\n",
    "double_in_single = 'We may use \"double quotes\" within single quotes'\n",
    "print(single_in_double)\n",
    "print(double_in_single)\n",
    "#The use of double quotes within single quotes or vice versa \n",
    "#allows us to include quotes in a string that are ignored by \n",
    "#the python compiler"
   ]
  },
  {
   "cell_type": "code",
   "execution_count": 3,
   "id": "fd18525a-6fe8-4ed3-9e39-55f6436b88e2",
   "metadata": {},
   "outputs": [
    {
     "name": "stdout",
     "output_type": "stream",
     "text": [
      "Two backslahes for one \"\\\"\n",
      "We may use 'single quotes' in single quotes.\n",
      "Or we may use \"double quotes\" in double quotes.\n",
      "We may use two backslashes to print a single backslash: \\\n",
      "Every\n",
      "word\n",
      "is\n",
      "a\n",
      "new\n",
      "line\n",
      "We may start a new line \n",
      "\tand use tab for a hanging indent\n"
     ]
    }
   ],
   "source": [
    "#MoreEscapeSequences.py\n",
    "single_quotes = 'We may use \\'single quotes\\' in single quotes.'\n",
    "double_quotes = \"Or we may use \\\"double quotes\\\" in double quotes.\"\n",
    "#We can use single quotes in single quotes and double quotes in double \n",
    "#quotes using the backslash before the first quote and after the second.\n",
    "#This instructs the python interpreter to include the quotes as part of the\n",
    "#string when the code is processed\n",
    "read_backslash = \"We may use two backslashes to print a single backslash: \\\\\"\n",
    "#We can include a backslash in a string by using two backslahes \"\\\\'\"\n",
    "Two_backslahes_for_one = 'Two backslahes for one \"\\\\\"'\n",
    "print(Two_backslahes_for_one)\n",
    "lines = \"Every\\nword\\nis\\na\\nnew\\nline\"\n",
    "#The escape sequence '\\n' in a string instructs the interpreter to print\n",
    "#a newline when the string is passed to the print function\n",
    "new_line_and_tab = \"We may start a new line \\n\\tand use tab for a hanging indent\"\n",
    "#The '\\t' command instructs the interpreter to include a horizontal tab \n",
    "#in a string\n",
    "print(single_quotes)\n",
    "print(double_quotes)\n",
    "print(read_backslash)\n",
    "print(lines)\n",
    "print(new_line_and_tab)"
   ]
  },
  {
   "cell_type": "code",
   "execution_count": 5,
   "id": "86925d12-23f6-4222-84c9-6e9b6df35791",
   "metadata": {},
   "outputs": [
    {
     "name": "stdout",
     "output_type": "stream",
     "text": [
      "no spaces removed:\n",
      "     Look at all the spaces in the text!    \n",
      "Remove left spaces:\n",
      "Look at all the spaces in the text!    \n",
      "Remove right spaces:\n",
      "    Look at all the spaces in the text!\n",
      "Remove left and right spaces:\n",
      "Look at all the spaces in the text!\n"
     ]
    }
   ],
   "source": [
    "#strip.py\n",
    "spaces = \"    Look at all the spaces in the text!    \"\n",
    "print(\"no spaces removed:\\n\", spaces)\n",
    "\n",
    "remove_left_spaces = spaces.lstrip()\n",
    "remove_right_spaces = spaces.rstrip()\n",
    "remove_left_and_right_spaces = spaces.strip()\n",
    "#We can use the lstrip(),rstrip(), and strip() functions to strip unnecessary\n",
    "#from strings\n",
    "print(\"Remove left spaces:\\n\" + remove_left_spaces)\n",
    "print(\"Remove right spaces:\\n\" + remove_right_spaces)\n",
    "print(\"Remove left and right spaces:\\n\" + remove_left_and_right_spaces)"
   ]
  },
  {
   "cell_type": "code",
   "execution_count": 7,
   "id": "4eff6fd3-1eaa-405a-992d-1fb6ec271260",
   "metadata": {},
   "outputs": [
    {
     "name": "stdout",
     "output_type": "stream",
     "text": [
      "Remove all spaces:\n",
      "Lookatallthespacesinthetext!\n"
     ]
    }
   ],
   "source": [
    "remove_all_spaces = spaces.replace(\" \", \"\")\n",
    "print(\"Remove all spaces:\\n\" + remove_all_spaces)\n",
    "#We can use the replace function to replace each space in a string with a null string\n",
    "#This is useful, however notice that the spaces in between the words in the\n",
    "#string were also removed. In this case, lstrip() and rstip() functions may\n",
    "#be more useful"
   ]
  },
  {
   "cell_type": "code",
   "execution_count": 11,
   "id": "65fc5523-4399-4161-ab02-a3163a84b7c1",
   "metadata": {},
   "outputs": [
    {
     "name": "stdout",
     "output_type": "stream",
     "text": [
      "Everything in this object will be recorded exactly as entered,\n",
      "if we enter a new line or \n",
      "    a new line with a tab.\n",
      "My name is Michael\n",
      "I go to NDSU\n",
      "    I am 29 years old.\n"
     ]
    }
   ],
   "source": [
    "#stringTripleQuotes.py\n",
    "x = \"\"\"\\\n",
    "Everything in this object will be recorded exactly as entered,\n",
    "if we enter a new line or \n",
    "    a new line with a tab.\"\"\"\n",
    "    \n",
    "print(x)\n",
    "#Triple quotes are used when we want to print more than one line without\n",
    "#calling multiple instances of the print function\n",
    "z='''\\\n",
    "My name is Michael\n",
    "I go to NDSU\n",
    "    I am 29 years old.'''\n",
    "print(z)\n",
    "#Notice that when triple quotes are used we don't need newline '\\n' or tab\n",
    "#'\\t' commands. We simply enter them into the string directly"
   ]
  },
  {
   "cell_type": "code",
   "execution_count": 8,
   "id": "e2497c88-48a3-4b3e-8361-2320739ee961",
   "metadata": {},
   "outputs": [
    {
     "name": "stdout",
     "output_type": "stream",
     "text": [
      "num1: 8 \n",
      "num2: 1 \n",
      "num3: 1\n"
     ]
    }
   ],
   "source": [
    "#integers.py\n",
    "num1 = 5+3\n",
    "num2 = 5-4\n",
    "num3 = 4-3\n",
    "print('num1:',num1,'\\nnum2:',num2,'\\nnum3:',num3)\n",
    "#Integers are saved as whole numbers in python"
   ]
  },
  {
   "cell_type": "code",
   "execution_count": 10,
   "id": "484c2e24-235a-43d8-890d-1225beb1bda2",
   "metadata": {},
   "outputs": [
    {
     "name": "stdout",
     "output_type": "stream",
     "text": [
      "num1: 8 \n",
      "num1s: 53\n"
     ]
    }
   ],
   "source": [
    "num1=5+3\n",
    "num1s='5'+'3'\n",
    "print('num1:',num1,'\\nnum1s:',num1s)\n",
    "#The '+' operator will sum together integers and floats. When an integer\n",
    "#is added to a float the result will be a float. Moreover, the + operator\n",
    "#will concatenate strings"
   ]
  },
  {
   "cell_type": "code",
   "execution_count": 14,
   "id": "da69494a-aec8-4970-acd5-8ac4fda3ff40",
   "metadata": {},
   "outputs": [
    {
     "name": "stdout",
     "output_type": "stream",
     "text": [
      "num1: 1.6666666666666667 \n",
      "num2: 1.25 \n",
      "num3: 1.3333333333333333\n"
     ]
    }
   ],
   "source": [
    "num1,num2,num3=5/3,5/4,4/3\n",
    "print('num1:',num1,'\\nnum2:',num2,'\\nnum3:',num3)\n",
    "#Floats are values that contain a decimal point"
   ]
  },
  {
   "cell_type": "code",
   "execution_count": 16,
   "id": "26761b38-ba31-47bb-ab54-b925966bd973",
   "metadata": {},
   "outputs": [
    {
     "ename": "TypeError",
     "evalue": "can only concatenate str (not \"float\") to str",
     "output_type": "error",
     "traceback": [
      "\u001b[0;31m---------------------------------------------------------------------------\u001b[0m",
      "\u001b[0;31mTypeError\u001b[0m                                 Traceback (most recent call last)",
      "Cell \u001b[0;32mIn[16], line 2\u001b[0m\n\u001b[1;32m      1\u001b[0m sum_nums\u001b[38;5;241m=\u001b[39mnum1\u001b[38;5;241m+\u001b[39mnum2\u001b[38;5;241m+\u001b[39mnum3\n\u001b[0;32m----> 2\u001b[0m \u001b[38;5;28mprint\u001b[39m(\u001b[38;5;124m'\u001b[39m\u001b[38;5;124mnum1+num2+num3:\u001b[39m\u001b[38;5;124m'\u001b[39m\u001b[38;5;241m+\u001b[39msum_nums)\n",
      "\u001b[0;31mTypeError\u001b[0m: can only concatenate str (not \"float\") to str"
     ]
    }
   ],
   "source": [
    "sum_nums=num1+num2+num3\n",
    "print('num1+num2+num3:'+sum_nums)\n",
    "#The code above returns a type error because only strings can be \n",
    "#concatenated together."
   ]
  },
  {
   "cell_type": "code",
   "execution_count": 18,
   "id": "182c14e1-4eef-408e-8cbc-adc8b19ec8af",
   "metadata": {},
   "outputs": [
    {
     "name": "stdout",
     "output_type": "stream",
     "text": [
      "num1+num2+num3:4.25\n"
     ]
    }
   ],
   "source": [
    "print('num1+num2+num3:'+str(sum_nums))\n",
    "#We can convert the float value of sum_nums to data type string using\n",
    "#the str function in python. This tweak allows the code to execute"
   ]
  },
  {
   "cell_type": "code",
   "execution_count": 20,
   "id": "75c041fd-1d3f-49cf-86dd-0e9a7b515ebb",
   "metadata": {},
   "outputs": [
    {
     "name": "stdout",
     "output_type": "stream",
     "text": [
      "sys.float_info(max=1.7976931348623157e+308, max_exp=1024, max_10_exp=308, min=2.2250738585072014e-308, min_exp=-1021, min_10_exp=-307, dig=15, mant_dig=53, epsilon=2.220446049250313e-16, radix=2, rounds=1)\n"
     ]
    }
   ],
   "source": [
    "#checkfloat.py\n",
    "import sys\n",
    "print(sys.float_info)\n",
    "#We can import sys and use the print function to print information\n",
    "#regarding the maximum values that python can store"
   ]
  },
  {
   "cell_type": "code",
   "execution_count": 22,
   "id": "d6224efe-f689-4098-a7c1-6a18c2d983e4",
   "metadata": {},
   "outputs": [
    {
     "name": "stdout",
     "output_type": "stream",
     "text": [
      "8.98846567431158e+307\n"
     ]
    }
   ],
   "source": [
    "x=2.0**1023\n",
    "print(x)\n",
    "#This is a very large number, however, python can still store it."
   ]
  },
  {
   "cell_type": "code",
   "execution_count": 24,
   "id": "63b427a3-ace7-42ec-acda-43bdda8f6199",
   "metadata": {},
   "outputs": [
    {
     "ename": "OverflowError",
     "evalue": "(34, 'Numerical result out of range')",
     "output_type": "error",
     "traceback": [
      "\u001b[0;31m---------------------------------------------------------------------------\u001b[0m",
      "\u001b[0;31mOverflowError\u001b[0m                             Traceback (most recent call last)",
      "Cell \u001b[0;32mIn[24], line 1\u001b[0m\n\u001b[0;32m----> 1\u001b[0m x\u001b[38;5;241m=\u001b[39m\u001b[38;5;241m2.0\u001b[39m\u001b[38;5;241m*\u001b[39m\u001b[38;5;241m*\u001b[39m\u001b[38;5;241m1024\u001b[39m\n\u001b[1;32m      2\u001b[0m \u001b[38;5;28mprint\u001b[39m(x)\n",
      "\u001b[0;31mOverflowError\u001b[0m: (34, 'Numerical result out of range')"
     ]
    }
   ],
   "source": [
    "x=2.0**1024\n",
    "print(x)\n",
    "#This number is too large for python to store, and returns an overflow \n",
    "#error when we try to declare it."
   ]
  },
  {
   "cell_type": "code",
   "execution_count": 26,
   "id": "5f2d6414-36de-4ccc-a08d-a2b178a34d8f",
   "metadata": {},
   "outputs": [
    {
     "name": "stdout",
     "output_type": "stream",
     "text": [
      "x is of <class 'float'> and is equal to 8.98846567431158e+307\n",
      "y is of <class 'int'> and is equal to 359538626972463181545861038157804946723595395788461314546860162315465351611001926265416954644815072042240227759742786715317579537628833244985694861278948248755535786849730970552604439202492188238906165904170011537676301364684925762947826221081654474326701021369172596479894491876959432609670712659248448274432\n"
     ]
    }
   ],
   "source": [
    "x = 2.0 ** 1023\n",
    "print(\"x is of\", type(x), \"and is equal to\", x)\n",
    "#Variable x in this case is a float because of the decimal point. This\n",
    "#means that the power we raise x to must be less than 1024th power.\n",
    "y = 2 ** 1025\n",
    "print(\"y is of\", type(y), \"and is equal to\", y)\n",
    "#Variable y is an integer or whole number. In python, we can can raise\n",
    "#integers to whatever power we want."
   ]
  },
  {
   "cell_type": "code",
   "execution_count": 79,
   "id": "813e7272-109d-4c09-8d37-75ff8716f7d8",
   "metadata": {},
   "outputs": [
    {
     "name": "stdout",
     "output_type": "stream",
     "text": [
      "My name is Michael Aaron\n",
      "I am a student at NDSU \n",
      "I am 29 years old\n",
      "16\n",
      "32\n",
      "16\n",
      "1616\n",
      "Hello \n",
      "\tMy name is Michael \n",
      "How are you today?\n",
      "\n",
      "\t\f",
      " I'm doing great\n",
      "The value of Integer1 is 1 <class 'int'> \n",
      " The value of Float1 is 1.0 <class 'float'> \n",
      " The value of IntPlusFloat is 2.0 <class 'float'>\n"
     ]
    },
    {
     "ename": "OverflowError",
     "evalue": "int too large to convert to float",
     "output_type": "error",
     "traceback": [
      "\u001b[0;31m---------------------------------------------------------------------------\u001b[0m",
      "\u001b[0;31mOverflowError\u001b[0m                             Traceback (most recent call last)",
      "Cell \u001b[0;32mIn[79], line 23\u001b[0m\n\u001b[1;32m     19\u001b[0m IntPlusFloat\u001b[38;5;241m=\u001b[39mInteger1\u001b[38;5;241m+\u001b[39mFloat1\n\u001b[1;32m     20\u001b[0m \u001b[38;5;28mprint\u001b[39m(\u001b[38;5;124m'\u001b[39m\u001b[38;5;124mThe value of Integer1 is\u001b[39m\u001b[38;5;124m'\u001b[39m,Integer1,\u001b[38;5;28mtype\u001b[39m(Integer1)\\\n\u001b[1;32m     21\u001b[0m ,\u001b[38;5;124m'\u001b[39m\u001b[38;5;130;01m\\n\u001b[39;00m\u001b[38;5;124m'\u001b[39m,\u001b[38;5;124m'\u001b[39m\u001b[38;5;124mThe value of Float1 is\u001b[39m\u001b[38;5;124m'\u001b[39m,Float1,\u001b[38;5;28mtype\u001b[39m(Float1),\u001b[38;5;124m'\u001b[39m\u001b[38;5;130;01m\\n\u001b[39;00m\u001b[38;5;124m'\u001b[39m,\u001b[38;5;124m'\u001b[39m\u001b[38;5;130;01m\\\u001b[39;00m\n\u001b[1;32m     22\u001b[0m \u001b[38;5;124mThe value of IntPlusFloat is\u001b[39m\u001b[38;5;124m'\u001b[39m,IntPlusFloat,\u001b[38;5;28mtype\u001b[39m(IntPlusFloat))\n\u001b[0;32m---> 23\u001b[0m x,x1,x2,x3,x4\u001b[38;5;241m=\u001b[39m\u001b[38;5;241m2\u001b[39m\u001b[38;5;241m*\u001b[39m\u001b[38;5;241m*\u001b[39m\u001b[38;5;241m1024\u001b[39m\u001b[38;5;241m+\u001b[39m\u001b[38;5;241m1.5\u001b[39m,\u001b[38;5;241m2\u001b[39m\u001b[38;5;241m*\u001b[39m\u001b[38;5;241m*\u001b[39m\u001b[38;5;241m1024\u001b[39m\u001b[38;5;241m+\u001b[39m\u001b[38;5;241m.5\u001b[39m,\u001b[38;5;241m2\u001b[39m\u001b[38;5;241m*\u001b[39m\u001b[38;5;241m*\u001b[39m\u001b[38;5;241m1024\u001b[39m\u001b[38;5;241m+\u001b[39m\u001b[38;5;241m1\u001b[39m,\u001b[38;5;241m2\u001b[39m\u001b[38;5;241m*\u001b[39m\u001b[38;5;241m*\u001b[39m\u001b[38;5;241m1024\u001b[39m\u001b[38;5;241m+\u001b[39m\u001b[38;5;241m1.1\u001b[39m\n",
      "\u001b[0;31mOverflowError\u001b[0m: int too large to convert to float"
     ]
    }
   ],
   "source": [
    "#Exercises\n",
    "x='Michael Aaron'\n",
    "print(f'My name is {x}')\n",
    "y='I am a student at NDSU \\nI am 29 years old'\n",
    "print(y)\n",
    "twoToTheFourth=2**4\n",
    "print(twoToTheFourth)\n",
    "twoToTheFourthTwice=twoToTheFourth+twoToTheFourth\n",
    "print(twoToTheFourthTwice)\n",
    "twoToTheFourth=str(2**4)\n",
    "print(twoToTheFourth)\n",
    "twoToTheFourthTwice=twoToTheFourth+twoToTheFourth\n",
    "print(twoToTheFourthTwice)\n",
    "My_string='''Hello \\n\\tMy name is Michael \\n\\t\\bHow are you today?\n",
    "\\n\\t\\f I'm doing great'''\n",
    "print(My_string)\n",
    "Integer1=1\n",
    "Float1=1.0\n",
    "IntPlusFloat=Integer1+Float1\n",
    "print('The value of Integer1 is',Integer1,type(Integer1)\\\n",
    ",'\\n','The value of Float1 is',Float1,type(Float1),'\\n','\\\n",
    "The value of IntPlusFloat is',IntPlusFloat,type(IntPlusFloat))\n",
    "x=2**1024+1.5\n",
    "x1=2**1024+.5\n",
    "x2=2**1024+1\n",
    "x3=2**1024+1.1"
   ]
  },
  {
   "cell_type": "code",
   "execution_count": 81,
   "id": "a9538bd5-db6f-4797-809b-93567c7e2ee9",
   "metadata": {},
   "outputs": [
    {
     "ename": "OverflowError",
     "evalue": "int too large to convert to float",
     "output_type": "error",
     "traceback": [
      "\u001b[0;31m---------------------------------------------------------------------------\u001b[0m",
      "\u001b[0;31mOverflowError\u001b[0m                             Traceback (most recent call last)",
      "Cell \u001b[0;32mIn[81], line 1\u001b[0m\n\u001b[0;32m----> 1\u001b[0m x\u001b[38;5;241m=\u001b[39m\u001b[38;5;241m2\u001b[39m\u001b[38;5;241m*\u001b[39m\u001b[38;5;241m*\u001b[39m\u001b[38;5;241m1024\u001b[39m\u001b[38;5;241m+\u001b[39m\u001b[38;5;241m1.5\u001b[39m\n",
      "\u001b[0;31mOverflowError\u001b[0m: int too large to convert to float"
     ]
    }
   ],
   "source": [
    "x=2**1024+1.5\n",
    "#This produces an overflow error because adding a float to an integer\n",
    "#converts the data type of the result to a float and python cannot\n",
    "#store floats this large."
   ]
  },
  {
   "cell_type": "code",
   "execution_count": 83,
   "id": "43f94e2d-2b36-45a6-82cf-a5d4bf89490b",
   "metadata": {},
   "outputs": [
    {
     "ename": "OverflowError",
     "evalue": "int too large to convert to float",
     "output_type": "error",
     "traceback": [
      "\u001b[0;31m---------------------------------------------------------------------------\u001b[0m",
      "\u001b[0;31mOverflowError\u001b[0m                             Traceback (most recent call last)",
      "Cell \u001b[0;32mIn[83], line 1\u001b[0m\n\u001b[0;32m----> 1\u001b[0m x1\u001b[38;5;241m=\u001b[39m\u001b[38;5;241m2\u001b[39m\u001b[38;5;241m*\u001b[39m\u001b[38;5;241m*\u001b[39m\u001b[38;5;241m1024\u001b[39m\u001b[38;5;241m+\u001b[39m\u001b[38;5;241m.5\u001b[39m\n",
      "\u001b[0;31mOverflowError\u001b[0m: int too large to convert to float"
     ]
    }
   ],
   "source": [
    "x1=2**1024+.5\n",
    "#overflow error"
   ]
  },
  {
   "cell_type": "code",
   "execution_count": 87,
   "id": "9d770a72-88b9-4f90-b414-23de0cc869af",
   "metadata": {},
   "outputs": [
    {
     "name": "stdout",
     "output_type": "stream",
     "text": [
      "179769313486231590772930519078902473361797697894230657273430081157732675805500963132708477322407536021120113879871393357658789768814416622492847430639474124377767893424865485276302219601246094119453082952085005768838150682342462881473913110540827237163350510684586298239947245938479716304835356329624224137217\n"
     ]
    }
   ],
   "source": [
    "x2=2**1024+1\n",
    "print(x2)\n",
    "#Here we have no error because we have added an integer to an integer"
   ]
  },
  {
   "cell_type": "code",
   "execution_count": 89,
   "id": "91d29494-5e0a-44f6-89cf-540a4b1cc9fe",
   "metadata": {},
   "outputs": [
    {
     "ename": "OverflowError",
     "evalue": "int too large to convert to float",
     "output_type": "error",
     "traceback": [
      "\u001b[0;31m---------------------------------------------------------------------------\u001b[0m",
      "\u001b[0;31mOverflowError\u001b[0m                             Traceback (most recent call last)",
      "Cell \u001b[0;32mIn[89], line 1\u001b[0m\n\u001b[0;32m----> 1\u001b[0m x3\u001b[38;5;241m=\u001b[39m\u001b[38;5;241m2\u001b[39m\u001b[38;5;241m*\u001b[39m\u001b[38;5;241m*\u001b[39m\u001b[38;5;241m1024\u001b[39m\u001b[38;5;241m+\u001b[39m\u001b[38;5;241m1.1\u001b[39m\n",
      "\u001b[0;31mOverflowError\u001b[0m: int too large to convert to float"
     ]
    }
   ],
   "source": [
    "x3=2**1024+1.1\n",
    "#overflow error"
   ]
  },
  {
   "cell_type": "code",
   "execution_count": 91,
   "id": "015ddd82-52ef-4c75-ab86-6bd503ae4540",
   "metadata": {},
   "outputs": [
    {
     "data": {
      "text/plain": [
       "{'__name__': 'string',\n",
       " '__doc__': 'A collection of string constants.\\n\\nPublic module variables:\\n\\nwhitespace -- a string containing all ASCII whitespace\\nascii_lowercase -- a string containing all ASCII lowercase letters\\nascii_uppercase -- a string containing all ASCII uppercase letters\\nascii_letters -- a string containing all ASCII letters\\ndigits -- a string containing all ASCII decimal digits\\nhexdigits -- a string containing all ASCII hexadecimal digits\\noctdigits -- a string containing all ASCII octal digits\\npunctuation -- a string containing all ASCII punctuation characters\\nprintable -- a string containing all ASCII characters considered printable\\n\\n',\n",
       " '__package__': '',\n",
       " '__loader__': <_frozen_importlib_external.SourceFileLoader at 0x7f656777b590>,\n",
       " '__spec__': ModuleSpec(name='string', loader=<_frozen_importlib_external.SourceFileLoader object at 0x7f656777b590>, origin='/opt/conda/envs/anaconda-panel-2023.05-py310/lib/python3.11/string.py'),\n",
       " '__file__': '/opt/conda/envs/anaconda-panel-2023.05-py310/lib/python3.11/string.py',\n",
       " '__cached__': '/opt/conda/envs/anaconda-panel-2023.05-py310/lib/python3.11/__pycache__/string.cpython-311.pyc',\n",
       " '__builtins__': {'__name__': 'builtins',\n",
       "  '__doc__': \"Built-in functions, types, exceptions, and other objects.\\n\\nThis module provides direct access to all 'built-in'\\nidentifiers of Python; for example, builtins.len is\\nthe full name for the built-in function len().\\n\\nThis module is not normally accessed explicitly by most\\napplications, but can be useful in modules that provide\\nobjects with the same name as a built-in value, but in\\nwhich the built-in of that name is also needed.\",\n",
       "  '__package__': '',\n",
       "  '__loader__': _frozen_importlib.BuiltinImporter,\n",
       "  '__spec__': ModuleSpec(name='builtins', loader=<class '_frozen_importlib.BuiltinImporter'>, origin='built-in'),\n",
       "  '__build_class__': <function __build_class__>,\n",
       "  '__import__': <function __import__(name, globals=None, locals=None, fromlist=(), level=0)>,\n",
       "  'abs': <function abs(x, /)>,\n",
       "  'all': <function all(iterable, /)>,\n",
       "  'any': <function any(iterable, /)>,\n",
       "  'ascii': <function ascii(obj, /)>,\n",
       "  'bin': <function bin(number, /)>,\n",
       "  'breakpoint': <function breakpoint>,\n",
       "  'callable': <function callable(obj, /)>,\n",
       "  'chr': <function chr(i, /)>,\n",
       "  'compile': <function compile(source, filename, mode, flags=0, dont_inherit=False, optimize=-1, *, _feature_version=-1)>,\n",
       "  'delattr': <function delattr(obj, name, /)>,\n",
       "  'dir': <function dir>,\n",
       "  'divmod': <function divmod(x, y, /)>,\n",
       "  'eval': <function eval(source, globals=None, locals=None, /)>,\n",
       "  'exec': <function exec(source, globals=None, locals=None, /, *, closure=None)>,\n",
       "  'format': <function format(value, format_spec='', /)>,\n",
       "  'getattr': <function getattr>,\n",
       "  'globals': <function globals()>,\n",
       "  'hasattr': <function hasattr(obj, name, /)>,\n",
       "  'hash': <function hash(obj, /)>,\n",
       "  'hex': <function hex(number, /)>,\n",
       "  'id': <function id(obj, /)>,\n",
       "  'input': <bound method Kernel.raw_input of <ipykernel.ipkernel.IPythonKernel object at 0x7f6564544a90>>,\n",
       "  'isinstance': <function isinstance(obj, class_or_tuple, /)>,\n",
       "  'issubclass': <function issubclass(cls, class_or_tuple, /)>,\n",
       "  'iter': <function iter>,\n",
       "  'aiter': <function aiter(async_iterable, /)>,\n",
       "  'len': <function len(obj, /)>,\n",
       "  'locals': <function locals()>,\n",
       "  'max': <function max>,\n",
       "  'min': <function min>,\n",
       "  'next': <function next>,\n",
       "  'anext': <function anext>,\n",
       "  'oct': <function oct(number, /)>,\n",
       "  'ord': <function ord(c, /)>,\n",
       "  'pow': <function pow(base, exp, mod=None)>,\n",
       "  'print': <function print(*args, sep=' ', end='\\n', file=None, flush=False)>,\n",
       "  'repr': <function repr(obj, /)>,\n",
       "  'round': <function round(number, ndigits=None)>,\n",
       "  'setattr': <function setattr(obj, name, value, /)>,\n",
       "  'sorted': <function sorted(iterable, /, *, key=None, reverse=False)>,\n",
       "  'sum': <function sum(iterable, /, start=0)>,\n",
       "  'vars': <function vars>,\n",
       "  'None': None,\n",
       "  'Ellipsis': Ellipsis,\n",
       "  'NotImplemented': NotImplemented,\n",
       "  'False': False,\n",
       "  'True': True,\n",
       "  'bool': bool,\n",
       "  'memoryview': memoryview,\n",
       "  'bytearray': bytearray,\n",
       "  'bytes': bytes,\n",
       "  'classmethod': classmethod,\n",
       "  'complex': complex,\n",
       "  'dict': dict,\n",
       "  'enumerate': enumerate,\n",
       "  'filter': filter,\n",
       "  'float': float,\n",
       "  'frozenset': frozenset,\n",
       "  'property': property,\n",
       "  'int': int,\n",
       "  'list': list,\n",
       "  'map': map,\n",
       "  'object': object,\n",
       "  'range': range,\n",
       "  'reversed': reversed,\n",
       "  'set': set,\n",
       "  'slice': slice,\n",
       "  'staticmethod': staticmethod,\n",
       "  'str': str,\n",
       "  'super': super,\n",
       "  'tuple': tuple,\n",
       "  'type': type,\n",
       "  'zip': zip,\n",
       "  '__debug__': True,\n",
       "  'BaseException': BaseException,\n",
       "  'BaseExceptionGroup': BaseExceptionGroup,\n",
       "  'Exception': Exception,\n",
       "  'GeneratorExit': GeneratorExit,\n",
       "  'KeyboardInterrupt': KeyboardInterrupt,\n",
       "  'SystemExit': SystemExit,\n",
       "  'ArithmeticError': ArithmeticError,\n",
       "  'AssertionError': AssertionError,\n",
       "  'AttributeError': AttributeError,\n",
       "  'BufferError': BufferError,\n",
       "  'EOFError': EOFError,\n",
       "  'ImportError': ImportError,\n",
       "  'LookupError': LookupError,\n",
       "  'MemoryError': MemoryError,\n",
       "  'NameError': NameError,\n",
       "  'OSError': OSError,\n",
       "  'ReferenceError': ReferenceError,\n",
       "  'RuntimeError': RuntimeError,\n",
       "  'StopAsyncIteration': StopAsyncIteration,\n",
       "  'StopIteration': StopIteration,\n",
       "  'SyntaxError': SyntaxError,\n",
       "  'SystemError': SystemError,\n",
       "  'TypeError': TypeError,\n",
       "  'ValueError': ValueError,\n",
       "  'Warning': Warning,\n",
       "  'FloatingPointError': FloatingPointError,\n",
       "  'OverflowError': OverflowError,\n",
       "  'ZeroDivisionError': ZeroDivisionError,\n",
       "  'BytesWarning': BytesWarning,\n",
       "  'DeprecationWarning': DeprecationWarning,\n",
       "  'EncodingWarning': EncodingWarning,\n",
       "  'FutureWarning': FutureWarning,\n",
       "  'ImportWarning': ImportWarning,\n",
       "  'PendingDeprecationWarning': PendingDeprecationWarning,\n",
       "  'ResourceWarning': ResourceWarning,\n",
       "  'RuntimeWarning': RuntimeWarning,\n",
       "  'SyntaxWarning': SyntaxWarning,\n",
       "  'UnicodeWarning': UnicodeWarning,\n",
       "  'UserWarning': UserWarning,\n",
       "  'BlockingIOError': BlockingIOError,\n",
       "  'ChildProcessError': ChildProcessError,\n",
       "  'ConnectionError': ConnectionError,\n",
       "  'FileExistsError': FileExistsError,\n",
       "  'FileNotFoundError': FileNotFoundError,\n",
       "  'InterruptedError': InterruptedError,\n",
       "  'IsADirectoryError': IsADirectoryError,\n",
       "  'NotADirectoryError': NotADirectoryError,\n",
       "  'PermissionError': PermissionError,\n",
       "  'ProcessLookupError': ProcessLookupError,\n",
       "  'TimeoutError': TimeoutError,\n",
       "  'IndentationError': IndentationError,\n",
       "  'IndexError': IndexError,\n",
       "  'KeyError': KeyError,\n",
       "  'ModuleNotFoundError': ModuleNotFoundError,\n",
       "  'NotImplementedError': NotImplementedError,\n",
       "  'RecursionError': RecursionError,\n",
       "  'UnboundLocalError': UnboundLocalError,\n",
       "  'UnicodeError': UnicodeError,\n",
       "  'BrokenPipeError': BrokenPipeError,\n",
       "  'ConnectionAbortedError': ConnectionAbortedError,\n",
       "  'ConnectionRefusedError': ConnectionRefusedError,\n",
       "  'ConnectionResetError': ConnectionResetError,\n",
       "  'TabError': TabError,\n",
       "  'UnicodeDecodeError': UnicodeDecodeError,\n",
       "  'UnicodeEncodeError': UnicodeEncodeError,\n",
       "  'UnicodeTranslateError': UnicodeTranslateError,\n",
       "  'ExceptionGroup': ExceptionGroup,\n",
       "  'EnvironmentError': OSError,\n",
       "  'IOError': OSError,\n",
       "  'open': <function io.open(file, mode='r', buffering=-1, encoding=None, errors=None, newline=None, closefd=True, opener=None)>,\n",
       "  'copyright': Copyright (c) 2001-2023 Python Software Foundation.\n",
       "  All Rights Reserved.\n",
       "  \n",
       "  Copyright (c) 2000 BeOpen.com.\n",
       "  All Rights Reserved.\n",
       "  \n",
       "  Copyright (c) 1995-2001 Corporation for National Research Initiatives.\n",
       "  All Rights Reserved.\n",
       "  \n",
       "  Copyright (c) 1991-1995 Stichting Mathematisch Centrum, Amsterdam.\n",
       "  All Rights Reserved.,\n",
       "  'credits':     Thanks to CWI, CNRI, BeOpen.com, Zope Corporation and a cast of thousands\n",
       "      for supporting Python development.  See www.python.org for more information.,\n",
       "  'license': Type license() to see the full license text,\n",
       "  'help': Type help() for interactive help, or help(object) for help about object.,\n",
       "  'execfile': <function _pydev_bundle._pydev_execfile.execfile(file, glob=None, loc=None)>,\n",
       "  'runfile': <function _pydev_bundle.pydev_umd.runfile(filename, args=None, wdir=None, namespace=None)>,\n",
       "  '__IPYTHON__': True,\n",
       "  'display': <function IPython.core.display_functions.display(*objs, include=None, exclude=None, metadata=None, transient=None, display_id=None, raw=False, clear=False, **kwargs)>,\n",
       "  'get_ipython': <bound method InteractiveShell.get_ipython of <ipykernel.zmqshell.ZMQInteractiveShell object at 0x7f6564547e50>>},\n",
       " '__all__': ['ascii_letters',\n",
       "  'ascii_lowercase',\n",
       "  'ascii_uppercase',\n",
       "  'capwords',\n",
       "  'digits',\n",
       "  'hexdigits',\n",
       "  'octdigits',\n",
       "  'printable',\n",
       "  'punctuation',\n",
       "  'whitespace',\n",
       "  'Formatter',\n",
       "  'Template'],\n",
       " '_string': <module '_string' (built-in)>,\n",
       " 'whitespace': ' \\t\\n\\r\\x0b\\x0c',\n",
       " 'ascii_lowercase': 'abcdefghijklmnopqrstuvwxyz',\n",
       " 'ascii_uppercase': 'ABCDEFGHIJKLMNOPQRSTUVWXYZ',\n",
       " 'ascii_letters': 'abcdefghijklmnopqrstuvwxyzABCDEFGHIJKLMNOPQRSTUVWXYZ',\n",
       " 'digits': '0123456789',\n",
       " 'hexdigits': '0123456789abcdefABCDEF',\n",
       " 'octdigits': '01234567',\n",
       " 'punctuation': '!\"#$%&\\'()*+,-./:;<=>?@[\\\\]^_`{|}~',\n",
       " 'printable': '0123456789abcdefghijklmnopqrstuvwxyzABCDEFGHIJKLMNOPQRSTUVWXYZ!\"#$%&\\'()*+,-./:;<=>?@[\\\\]^_`{|}~ \\t\\n\\r\\x0b\\x0c',\n",
       " 'capwords': <function string.capwords(s, sep=None)>,\n",
       " '_re': <module 're' from '/opt/conda/envs/anaconda-panel-2023.05-py310/lib/python3.11/re/__init__.py'>,\n",
       " '_ChainMap': collections.ChainMap,\n",
       " '_sentinel_dict': {},\n",
       " 'Template': string.Template,\n",
       " 'Formatter': string.Formatter}"
      ]
     },
     "execution_count": 91,
     "metadata": {},
     "output_type": "execute_result"
    }
   ],
   "source": [
    "import string \n",
    "string.__dict__"
   ]
  },
  {
   "cell_type": "code",
   "execution_count": 105,
   "id": "f815da0d-05d8-439a-b816-5f370d20ca6e",
   "metadata": {},
   "outputs": [
    {
     "name": "stdout",
     "output_type": "stream",
     "text": [
      "HELLO WORLD\n",
      "Hello World\n"
     ]
    }
   ],
   "source": [
    "My_string='hello world'\n",
    "print(My_string.upper())\n",
    "print(My_string.title())"
   ]
  },
  {
   "cell_type": "code",
   "execution_count": 113,
   "id": "71b65c27-36d6-4eb0-a410-9f2d005dfa0f",
   "metadata": {},
   "outputs": [
    {
     "name": "stdout",
     "output_type": "stream",
     "text": [
      "Happy Birthday to you\n",
      "Happy Birthday to you\n"
     ]
    }
   ],
   "source": [
    "string_1,string_2,string_3='Happy','Birthday','to you'\n",
    "string_4=string_1+' '+string_2+' '+string_3\n",
    "print(string_1,string_2,string_3,sep=' ')\n",
    "print(string_4)"
   ]
  },
  {
   "cell_type": "code",
   "execution_count": null,
   "id": "65689401-c0ac-4626-9b74-12a62b42a21b",
   "metadata": {},
   "outputs": [],
   "source": []
  }
 ],
 "metadata": {
  "kernelspec": {
   "display_name": "anaconda-panel-2023.05-py310",
   "language": "python",
   "name": "conda-env-anaconda-panel-2023.05-py310-py"
  },
  "language_info": {
   "codemirror_mode": {
    "name": "ipython",
    "version": 3
   },
   "file_extension": ".py",
   "mimetype": "text/x-python",
   "name": "python",
   "nbconvert_exporter": "python",
   "pygments_lexer": "ipython3",
   "version": "3.11.5"
  }
 },
 "nbformat": 4,
 "nbformat_minor": 5
}
