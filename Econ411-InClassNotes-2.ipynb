{
 "cells": [
  {
   "cell_type": "markdown",
   "id": "e8665739-999c-4af7-8290-650a4f3be231",
   "metadata": {},
   "source": [
    "Project 2: Working with Lists"
   ]
  },
  {
   "cell_type": "code",
   "execution_count": 2,
   "id": "a69d8bb0-6763-4a49-80dc-ab1fb74b3b2f",
   "metadata": {},
   "outputs": [],
   "source": [
    "empty_list = []\n",
    "int_list = [1,2,3,4,5]\n",
    "float_list = [1.0, 2.0, 3.0, 4.0, 5.0]\n",
    "string_list = [\"Many words\", \"impoverished meaning\"]\n",
    "mixed_list = [1, 2.0, \"3\"]\n",
    "#Lists can contain items of different types. E.g, a list can contain\n",
    "#strings, integers, and floats."
   ]
  },
  {
   "cell_type": "code",
   "execution_count": 4,
   "id": "96393d68-0bc7-45eb-88eb-e9ebd157ed71",
   "metadata": {},
   "outputs": [
    {
     "name": "stdout",
     "output_type": "stream",
     "text": [
      "<class 'list'>\n",
      "<class 'list'>\n",
      "<class 'list'>\n",
      "<class 'list'>\n",
      "<class 'list'>\n"
     ]
    }
   ],
   "source": [
    "print(type(empty_list))\n",
    "print(type(int_list))\n",
    "print(type(float_list))\n",
    "print(type(string_list))\n",
    "print(type(mixed_list))\n",
    "#If we call the type function and use any list object as the argument\n",
    "#we will get out stating that the object is a list regardless of its contents"
   ]
  },
  {
   "cell_type": "code",
   "execution_count": 6,
   "id": "07d53585-beba-4d12-9775-3dd24f34e4dc",
   "metadata": {},
   "outputs": [
    {
     "name": "stdout",
     "output_type": "stream",
     "text": [
      "<class 'list'> [1, 2.0, '3']\n",
      "<class 'int'> 1\n",
      "<class 'float'> 2.0\n",
      "<class 'str'> 3\n"
     ]
    }
   ],
   "source": [
    "print(type(mixed_list), mixed_list)\n",
    "for value in mixed_list:\n",
    "    print(type(value), value)\n",
    "#We can check the type of specific values contained in a list using a loop"
   ]
  },
  {
   "cell_type": "markdown",
   "id": "64ede3ac-507c-4755-845c-f1f21efe6e9f",
   "metadata": {},
   "source": [
    "Concatenating Lists"
   ]
  },
  {
   "cell_type": "code",
   "execution_count": 11,
   "id": "e6c42d76-fa75-41db-a6ae-6dca8b5732fc",
   "metadata": {},
   "outputs": [
    {
     "data": {
      "text/plain": [
       "['a', 'b']"
      ]
     },
     "execution_count": 11,
     "metadata": {},
     "output_type": "execute_result"
    }
   ],
   "source": [
    "\"a\" + \"b\""
   ]
  },
  {
   "cell_type": "code",
   "execution_count": 13,
   "id": "e296ba37-ebb5-4547-ab38-38e46b0ffed8",
   "metadata": {},
   "outputs": [
    {
     "data": {
      "text/plain": [
       "['a', 'b']"
      ]
     },
     "execution_count": 13,
     "metadata": {},
     "output_type": "execute_result"
    }
   ],
   "source": [
    "[\"a\"] + [\"b\"]\n",
    "#lists can be concatenated using the '+' operator. List concatenation is\n",
    "#similiar to list concatenation."
   ]
  },
  {
   "cell_type": "code",
   "execution_count": 15,
   "id": "f4b82708-a96e-4227-b32d-a2cdf632ca59",
   "metadata": {},
   "outputs": [
    {
     "data": {
      "text/plain": [
       "['a', 'b']"
      ]
     },
     "execution_count": 15,
     "metadata": {},
     "output_type": "execute_result"
    }
   ],
   "source": [
    "x = [\"a\"]\n",
    "\n",
    "x = x + [\"b\"]\n",
    "x\n",
    "#The use of the '+' operator to concatenate strings is identical to using\n",
    "#the append function to combine them"
   ]
  },
  {
   "cell_type": "markdown",
   "id": "1e12c88e-f66c-436c-8c56-5f9ba6f07a85",
   "metadata": {},
   "source": [
    "Transform a string of characters into a list of string characters"
   ]
  },
  {
   "cell_type": "code",
   "execution_count": 18,
   "id": "9de7c3ee-49ed-4017-9849-eb2bdddfe2dd",
   "metadata": {},
   "outputs": [
    {
     "name": "stdout",
     "output_type": "stream",
     "text": [
      "['a', 'b', 'c', 'd', 'e', 'f', 'g', 'h', 'i', 'j', 'k', 'l', 'm', 'n', 'o', 'p', 'q', 'r', 's', 't', 'u', 'v', 'w', 'x', 'y', 'z']\n"
     ]
    }
   ],
   "source": [
    "alphabet = \"abcdefghijklmnopqrstuvwxyz\"\n",
    "alpha_list = []\n",
    "\n",
    "# For loop will cycle through each character (letter) in the string, alphabet\n",
    "#  each character will be represented by the variable: letter\n",
    "for letter in alphabet:\n",
    "#     print(letter)\n",
    "    alpha_list = alpha_list + [letter]\n",
    "print(alpha_list)\n",
    "#using a for loop we can fill an empty list with each character in a string\n",
    "#by setting the list equal to itself plus each iterable of our string"
   ]
  },
  {
   "cell_type": "code",
   "execution_count": 20,
   "id": "b8ec3a53-57f0-4fdc-a298-f42a119c2392",
   "metadata": {},
   "outputs": [
    {
     "data": {
      "text/plain": [
       "[1, 2, 3, 4, 5, 6, 7, 8, 9, 10]"
      ]
     },
     "execution_count": 20,
     "metadata": {},
     "output_type": "execute_result"
    }
   ],
   "source": [
    "list1 = [1,2,3,4,5]\n",
    "list2 = [6,7,8,9,10]\n",
    "list1 + list2\n",
    "#We can concatenate lists of integers using the '+' operator"
   ]
  },
  {
   "cell_type": "markdown",
   "id": "30c9107b-dfdc-4f15-b10e-18fc4aa33984",
   "metadata": {},
   "source": [
    "Transform a list of strings into a single string with spaces between each word."
   ]
  },
  {
   "cell_type": "code",
   "execution_count": 41,
   "id": "89eb5c10-b03b-4ae0-bcbc-2462a6c4f00b",
   "metadata": {},
   "outputs": [
    {
     "name": "stdout",
     "output_type": "stream",
     "text": [
      "This \n",
      "This is \n",
      "This is a \n",
      "This is a list \n",
      "This is a list of \n",
      "This is a list of strings. \n"
     ]
    },
    {
     "data": {
      "text/plain": [
       "'This is a list of strings.'"
      ]
     },
     "execution_count": 41,
     "metadata": {},
     "output_type": "execute_result"
    }
   ],
   "source": [
    "str_list = [\"This\", \"is\",\"a\",\"list\",\"of\",\"strings.\"]\n",
    "new_string = \"\"\n",
    "# the for loop will cycle through each string in the list separately\n",
    "# each string will be identified by the variable: string\n",
    "for string in str_list:\n",
    "    # joint each separate string to the object, new_string\n",
    "    new_string = new_string + string + \" \"\n",
    "    print(new_string)\n",
    "new_string.strip()"
   ]
  },
  {
   "cell_type": "markdown",
   "id": "0552ebe9-be3e-4612-96f8-8a4a976f5de8",
   "metadata": {},
   "source": [
    "range(min, max + 1, interval)"
   ]
  },
  {
   "cell_type": "code",
   "execution_count": 37,
   "id": "949b5ad6-90cd-4e81-bcdb-9edb9c626491",
   "metadata": {},
   "outputs": [],
   "source": [
    "\n",
    "\n",
    "for i in range(10):\n",
    "    print(i)\n",
    "#We can use the range function to tell python how many iterations we want\n",
    "#to perform"
   ]
  },
  {
   "cell_type": "code",
   "execution_count": 39,
   "id": "b7f61368-6b6b-4b73-a397-71107384da18",
   "metadata": {},
   "outputs": [
    {
     "name": "stdout",
     "output_type": "stream",
     "text": [
      "0\n",
      "1\n",
      "2\n",
      "3\n",
      "4\n",
      "5\n",
      "6\n",
      "7\n",
      "8\n",
      "9\n"
     ]
    }
   ],
   "source": [
    "for i in range(0,10):\n",
    "    print(i)\n",
    "#The first argument in the range functions is the starting point of the\n",
    "#for loop, and the second argument is the ending point (final iteration)."
   ]
  },
  {
   "cell_type": "code",
   "execution_count": 44,
   "id": "ebb48dc6-46ac-494f-bfe2-3e782458a404",
   "metadata": {},
   "outputs": [
    {
     "data": {
      "text/plain": [
       "[-10, -9, -8, -7, -6, -5, -4, -3, -2, -1, 0, 1, 2, 3, 4, 5, 6, 7, 8, 9, 10]"
      ]
     },
     "execution_count": 44,
     "metadata": {},
     "output_type": "execute_result"
    }
   ],
   "source": [
    "minrange = -10\n",
    "maxrange = 10\n",
    "range_lst = list(range(minrange,maxrange + 1))\n",
    "range_lst\n",
    "#The upper and lower bounds of the range function be declared as objects\n",
    "#outside the function and then used as arguments in the function."
   ]
  },
  {
   "cell_type": "code",
   "execution_count": 46,
   "id": "4c16a424-6fdc-4aa5-bab2-c9263a8b95e3",
   "metadata": {},
   "outputs": [
    {
     "data": {
      "text/plain": [
       "range(0, 10)"
      ]
     },
     "execution_count": 46,
     "metadata": {},
     "output_type": "execute_result"
    }
   ],
   "source": [
    "range(0,10)"
   ]
  },
  {
   "cell_type": "code",
   "execution_count": 48,
   "id": "96789b96-c927-47c3-8572-1e7f0fbb1361",
   "metadata": {},
   "outputs": [
    {
     "name": "stdout",
     "output_type": "stream",
     "text": [
      "-10\n",
      "-9\n",
      "-8\n",
      "-7\n",
      "-6\n",
      "-5\n",
      "-4\n",
      "-3\n",
      "-2\n",
      "-1\n",
      "0\n",
      "1\n",
      "2\n",
      "3\n",
      "4\n",
      "5\n",
      "6\n",
      "7\n",
      "8\n",
      "9\n",
      "10\n"
     ]
    }
   ],
   "source": [
    "for i in range_lst:\n",
    "    print(i)\n",
    "#An iterable object such as a list can be used in place of the range function"
   ]
  },
  {
   "cell_type": "code",
   "execution_count": 50,
   "id": "0723d885-936e-4991-bcd1-b3b0b28c6787",
   "metadata": {},
   "outputs": [
    {
     "name": "stdout",
     "output_type": "stream",
     "text": [
      "[-100, -97, -94, -91, -88, -85, -82, -79, -76, -73, -70, -67, -64, -61, -58, -55, -52, -49, -46, -43, -40, -37, -34, -31, -28, -25, -22, -19, -16, -13, -10, -7, -4, -1, 2, 5, 8, 11, 14, 17, 20, 23, 26, 29, 32, 35, 38, 41, 44, 47, 50, 53, 56, 59, 62, 65, 68, 71, 74, 77, 80, 83, 86, 89, 92, 95, 98]\n"
     ]
    }
   ],
   "source": [
    "minrange = -100\n",
    "maxrange = 100\n",
    "interval = 3\n",
    "range_lst = list(range(minrange,maxrange + 1, interval))\n",
    "print(range_lst)\n",
    "#The third argument of the range function is the interval (step) that you\n",
    "#want to iterate over. The interval can also be declared as an object\n",
    "#and then called as an argument in the range function"
   ]
  },
  {
   "cell_type": "markdown",
   "id": "5f80661b-f92a-4940-94cf-5b1c91e56f58",
   "metadata": {},
   "source": [
    "interval can be used in range(), but it can also be used in calling a slice of a list where only every i elements are called"
   ]
  },
  {
   "cell_type": "code",
   "execution_count": 53,
   "id": "65f8be54-5432-4dba-863d-c4645b7f0562",
   "metadata": {},
   "outputs": [
    {
     "name": "stdout",
     "output_type": "stream",
     "text": [
      "[-100, -99, -98, -97, -96, -95, -94, -93, -92, -91, -90, -89, -88, -87, -86, -85, -84, -83, -82, -81, -80, -79, -78, -77, -76, -75, -74, -73, -72, -71, -70, -69, -68, -67, -66, -65, -64, -63, -62, -61, -60, -59, -58, -57, -56, -55, -54, -53, -52, -51, -50, -49, -48, -47, -46, -45, -44, -43, -42, -41, -40, -39, -38, -37, -36, -35, -34, -33, -32, -31, -30, -29, -28, -27, -26, -25, -24, -23, -22, -21, -20, -19, -18, -17, -16, -15, -14, -13, -12, -11, -10, -9, -8, -7, -6, -5, -4, -3, -2, -1, 0, 1, 2, 3, 4, 5, 6, 7, 8, 9, 10, 11, 12, 13, 14, 15, 16, 17, 18, 19, 20, 21, 22, 23, 24, 25, 26, 27, 28, 29, 30, 31, 32, 33, 34, 35, 36, 37, 38, 39, 40, 41, 42, 43, 44, 45, 46, 47, 48, 49, 50, 51, 52, 53, 54, 55, 56, 57, 58, 59, 60, 61, 62, 63, 64, 65, 66, 67, 68, 69, 70, 71, 72, 73, 74, 75, 76, 77, 78, 79, 80, 81, 82, 83, 84, 85, 86, 87, 88, 89, 90, 91, 92, 93, 94, 95, 96, 97, 98, 99, 100, 101, 102, 103]\n",
      "[-100, -97, -94, -91, -88, -85, -82, -79, -76, -73, -70, -67, -64, -61, -58, -55, -52, -49, -46, -43, -40, -37, -34, -31, -28, -25, -22, -19, -16, -13, -10, -7, -4, -1, 2, 5, 8, 11, 14, 17, 20, 23, 26, 29, 32, 35, 38, 41, 44, 47, 50, 53, 56, 59, 62, 65, 68, 71, 74, 77, 80, 83, 86, 89, 92, 95, 98, 101]\n"
     ]
    }
   ],
   "source": [
    "minrange = -100\n",
    "maxrange = 100 + interval\n",
    "interval = 3\n",
    "range_lst = list(range(minrange,maxrange + 1))\n",
    "print(range_lst)\n",
    "print(range_lst[::interval])\n",
    "interval = 3\n",
    "#The interval argument can be called to slice an iterable object when\n",
    "#you want to return specific items from the object at the specified\n",
    "#increments"
   ]
  },
  {
   "cell_type": "markdown",
   "id": "86295807-9a28-43a2-ba39-402d356747d3",
   "metadata": {},
   "source": [
    "You must define a variable before calling that variable. If you call a variable before defining it, the program will throw an error"
   ]
  },
  {
   "cell_type": "code",
   "execution_count": 60,
   "id": "ca5b3c8d-c462-4459-b92c-defa7ce1b7ec",
   "metadata": {},
   "outputs": [
    {
     "ename": "NameError",
     "evalue": "name 'interval2' is not defined",
     "output_type": "error",
     "traceback": [
      "\u001b[0;31m---------------------------------------------------------------------------\u001b[0m",
      "\u001b[0;31mNameError\u001b[0m                                 Traceback (most recent call last)",
      "Cell \u001b[0;32mIn[60], line 2\u001b[0m\n\u001b[1;32m      1\u001b[0m minrange \u001b[38;5;241m=\u001b[39m \u001b[38;5;241m-\u001b[39m\u001b[38;5;241m100\u001b[39m\n\u001b[0;32m----> 2\u001b[0m maxrange \u001b[38;5;241m=\u001b[39m \u001b[38;5;241m100\u001b[39m \u001b[38;5;241m+\u001b[39m interval2\n\u001b[1;32m      3\u001b[0m interval2 \u001b[38;5;241m=\u001b[39m \u001b[38;5;241m3\u001b[39m\n",
      "\u001b[0;31mNameError\u001b[0m: name 'interval2' is not defined"
     ]
    }
   ],
   "source": [
    "minrange = -100\n",
    "maxrange = 100 + interval2\n",
    "interval2 = 3\n",
    "#An object must be declared before it can be called because python executes\n",
    "#code from top to bottom"
   ]
  },
  {
   "cell_type": "markdown",
   "id": "8ef6bdcb-51d4-4a4b-b172-fc8817684bb9",
   "metadata": {},
   "source": [
    "Generator Functions"
   ]
  },
  {
   "cell_type": "code",
   "execution_count": 58,
   "id": "ca815fa1-acbf-4224-bdd2-405c02230233",
   "metadata": {},
   "outputs": [
    {
     "name": "stdout",
     "output_type": "stream",
     "text": [
      "i random_int\n",
      "0 8\n",
      "1 2\n",
      "2 3\n",
      "3 9\n",
      "4 3\n",
      "5 3\n",
      "6 7\n",
      "7 4\n",
      "8 2\n",
      "9 3\n"
     ]
    }
   ],
   "source": [
    "import random\n",
    "print(\"i random_int\")\n",
    "for i in range(10):\n",
    "    print(i, random.randint(0,10))"
   ]
  },
  {
   "cell_type": "code",
   "execution_count": 62,
   "id": "4c27a738-b05e-4c48-a141-de8b9d3ab08c",
   "metadata": {},
   "outputs": [
    {
     "data": {
      "text/plain": [
       "[-10, -9, -8, -7, -6, -5, -4, -3, -2, -1, 0, 1, 2, 3, 4, 5, 6, 7, 8, 9, 10]"
      ]
     },
     "execution_count": 62,
     "metadata": {},
     "output_type": "execute_result"
    }
   ],
   "source": [
    "minrange = -10\n",
    "maxrange = 10\n",
    "# x = list(range(minrange, maxrange + 1))\n",
    "x = [i for i in range(minrange, maxrange + 1)]\n",
    "x\n",
    "#List comprehension syntax can be used to generate lists using looping"
   ]
  },
  {
   "cell_type": "code",
   "execution_count": 64,
   "id": "0382ef32-36e1-4955-a433-146534694aa8",
   "metadata": {},
   "outputs": [
    {
     "data": {
      "text/plain": [
       "[100, 81, 64, 49, 36, 25, 16, 9, 4, 1, 0, 1, 4, 9, 16, 25, 36, 49, 64, 81, 100]"
      ]
     },
     "execution_count": 64,
     "metadata": {},
     "output_type": "execute_result"
    }
   ],
   "source": [
    "minrange = -10\n",
    "maxrange = 10\n",
    "# x = list(range(minrange, maxrange + 1))\n",
    "x = [i ** 2 for i in range(minrange, maxrange + 1)]\n",
    "x\n",
    "#List comprehension that generates squares for values in range [-10,10,1]"
   ]
  },
  {
   "cell_type": "code",
   "execution_count": 66,
   "id": "8041cc2a-bf2b-466c-858d-02a2f2c44085",
   "metadata": {},
   "outputs": [
    {
     "data": {
      "text/plain": [
       "[1, 2, 3, 4, 5, 6, 7, 8, 9, 10]"
      ]
     },
     "execution_count": 66,
     "metadata": {},
     "output_type": "execute_result"
    }
   ],
   "source": [
    "# generate\n",
    "x = [1 + i for i in range(10)]\n",
    "x"
   ]
  },
  {
   "cell_type": "code",
   "execution_count": 68,
   "id": "356d92e1-cd21-4b45-97ef-90d5e2af4a47",
   "metadata": {},
   "outputs": [
    {
     "data": {
      "text/plain": [
       "[1, 1, 1, 1, 1, 1, 1, 1, 1, 1]"
      ]
     },
     "execution_count": 68,
     "metadata": {},
     "output_type": "execute_result"
    }
   ],
   "source": [
    "x = [1 for i in range(10)]\n",
    "x\n",
    "#Lists comprehensions can be used to duplicate the same value "
   ]
  },
  {
   "cell_type": "code",
   "execution_count": 70,
   "id": "da2794e4-28a7-4e52-b379-42b9799ed401",
   "metadata": {},
   "outputs": [
    {
     "data": {
      "text/plain": [
       "[4, 20, 10, 10, 14, 0, 0, 0, 8, 7]"
      ]
     },
     "execution_count": 70,
     "metadata": {},
     "output_type": "execute_result"
    }
   ],
   "source": [
    "x = [random.randint(0,25) for i in range(10)]\n",
    "x"
   ]
  },
  {
   "cell_type": "markdown",
   "id": "de32d298-b42e-42cb-a18d-45d2b8e8a14d",
   "metadata": {},
   "source": [
    "Determine list values according to an equation:\n",
    "y=2*x**2+3*x+1"
   ]
  },
  {
   "cell_type": "code",
   "execution_count": 73,
   "id": "72e99291-6840-45fb-995e-e1006e422df5",
   "metadata": {},
   "outputs": [
    {
     "name": "stdout",
     "output_type": "stream",
     "text": [
      "[-10, -9, -8, -7, -6, -5, -4, -3, -2, -1, 0, 1, 2, 3, 4, 5, 6, 7, 8, 9, 10]\n",
      "[-229, -188, -151, -118, -89, -64, -43, -26, -13, -4, 1, 2, -1, -8, -19, -34, -53, -76, -103, -134, -169]\n"
     ]
    },
    {
     "data": {
      "text/plain": [
       "[(-10, -229),\n",
       " (-9, -188),\n",
       " (-8, -151),\n",
       " (-7, -118),\n",
       " (-6, -89),\n",
       " (-5, -64),\n",
       " (-4, -43),\n",
       " (-3, -26),\n",
       " (-2, -13),\n",
       " (-1, -4),\n",
       " (0, 1),\n",
       " (1, 2),\n",
       " (2, -1),\n",
       " (3, -8),\n",
       " (4, -19),\n",
       " (5, -34),\n",
       " (6, -53),\n",
       " (7, -76),\n",
       " (8, -103),\n",
       " (9, -134),\n",
       " (10, -169)]"
      ]
     },
     "execution_count": 73,
     "metadata": {},
     "output_type": "execute_result"
    }
   ],
   "source": [
    "x_list = [x for x in range(minrange, maxrange + 1)]\n",
    "y = [-2 * x ** 2 + 3 * x + 1 for x in x_list]\n",
    "print(x_list)\n",
    "print(y)\n",
    "# zip(list_a,list_b) creates a single list of tuples of the form:\n",
    "#  [(a0,b0,),(a1, b1), . . . , (a_(n-1), b_(n-1)), (an, bn)]\n",
    "list(zip(x_list,y))\n",
    "# print(y)"
   ]
  },
  {
   "cell_type": "code",
   "execution_count": 75,
   "id": "f2b21b17-414a-4e93-922a-60edd816e525",
   "metadata": {},
   "outputs": [
    {
     "data": {
      "text/plain": [
       "[<matplotlib.lines.Line2D at 0x7f553b09f610>]"
      ]
     },
     "execution_count": 75,
     "metadata": {},
     "output_type": "execute_result"
    },
    {
     "data": {
      "image/png": "[encoded data removed]",
      "text/plain": [
       "<Figure size 640x480 with 1 Axes>"
      ]
     },
     "metadata": {},
     "output_type": "display_data"
    }
   ],
   "source": [
    "import matplotlib.pyplot as plt\n",
    "plt.plot(x_list, y)"
   ]
  },
  {
   "cell_type": "markdown",
   "id": "5225c508-2cb6-4b6e-bb8d-fe00d4da400c",
   "metadata": {},
   "source": [
    "you don't always need to use the value from the for loop. The index in the for loop can define how many times a task is completed rather than indicating what a value should be"
   ]
  },
  {
   "cell_type": "code",
   "execution_count": 80,
   "id": "1bd187dc-46f5-4bd8-87d2-b3ea4f486e00",
   "metadata": {},
   "outputs": [
    {
     "name": "stdout",
     "output_type": "stream",
     "text": [
      "[-10, -9, -8, -7, -6, -5, -4, -3, -2, -1, 0, 1, 2, 3, 4, 5, 6, 7, 8, 9, 10]\n",
      "[-30000, -10800, -24000, -2100, -16200, -1500, -1200, -9000, -3600, -3000, 0, 3000, 4800, 9000, 9600, 13500, 18000, 12600, 0, 18900, 6000]\n"
     ]
    }
   ],
   "source": [
    "y = [random.randint(0,maxrange+1) * 300 * x for x in x_list]\n",
    "print(x_list)\n",
    "print(y)\n",
    "#This code instructs python to transform values in x_list by multiplying \n",
    "#each value of x with 300 and some random number which becomes the new \n",
    "#values for y"
   ]
  },
  {
   "cell_type": "code",
   "execution_count": 82,
   "id": "de8f11ad-b7f7-42ed-a938-b4c7964a31ee",
   "metadata": {},
   "outputs": [
    {
     "data": {
      "text/plain": [
       "<matplotlib.collections.PathCollection at 0x7f553afb3f10>"
      ]
     },
     "execution_count": 82,
     "metadata": {},
     "output_type": "execute_result"
    },
    {
     "data": {
      "image/png": "[encoded data removed]",
      "text/plain": [
       "<Figure size 640x480 with 1 Axes>"
      ]
     },
     "metadata": {},
     "output_type": "display_data"
    }
   ],
   "source": [
    "plt.scatter(x_list, y)"
   ]
  },
  {
   "cell_type": "markdown",
   "id": "cb3b85ad-b8cd-4503-94da-60a0345be763",
   "metadata": {},
   "source": [
    "Managing lists by index"
   ]
  },
  {
   "cell_type": "code",
   "execution_count": 85,
   "id": "efe8eac8-7131-4fe0-9174-92a7dbb1b005",
   "metadata": {},
   "outputs": [
    {
     "data": {
      "text/plain": [
       "(21, 21)"
      ]
     },
     "execution_count": 85,
     "metadata": {},
     "output_type": "execute_result"
    }
   ],
   "source": [
    "len(x_list), len(y)\n",
    "#The len function returns the length of an iterable object"
   ]
  },
  {
   "cell_type": "code",
   "execution_count": 93,
   "id": "0276c828-6a0a-4702-9bb6-036bc9733d7c",
   "metadata": {},
   "outputs": [
    {
     "name": "stdout",
     "output_type": "stream",
     "text": [
      "x\ty\n",
      "-10\t-30000\n",
      "-9\t-10800\n",
      "-8\t-24000\n",
      "-7\t-2100\n",
      "-6\t-16200\n",
      "-5\t-1500\n",
      "-4\t-1200\n",
      "-3\t-9000\n",
      "-2\t-3600\n",
      "-1\t-3000\n",
      "0\t0\n",
      "1\t3000\n",
      "2\t4800\n",
      "3\t9000\n",
      "4\t9600\n",
      "5\t13500\n",
      "6\t18000\n",
      "7\t12600\n",
      "8\t0\n",
      "9\t18900\n",
      "10\t6000\n"
     ]
    }
   ],
   "source": [
    "print(\"x\", \"y\", sep = \"\\t\")\n",
    "for i in range(len(x_list)):\n",
    "    print(x_list[i], y[i], sep = \"\\t\")"
   ]
  },
  {
   "cell_type": "code",
   "execution_count": 90,
   "id": "8b428429-5644-4bf6-bc10-c6f3562129b2",
   "metadata": {},
   "outputs": [
    {
     "name": "stdout",
     "output_type": "stream",
     "text": [
      "y\tx\ty/(x+100)\n",
      "-30000\t-10\t-333.3333333333333\n",
      "-10800\t-9\t-118.68131868131869\n",
      "-24000\t-8\t-260.8695652173913\n",
      "-2100\t-7\t-22.580645161290324\n",
      "-16200\t-6\t-172.3404255319149\n",
      "-1500\t-5\t-15.789473684210526\n",
      "-1200\t-4\t-12.5\n",
      "-9000\t-3\t-92.78350515463917\n",
      "-3600\t-2\t-36.734693877551024\n",
      "-3000\t-1\t-30.303030303030305\n",
      "0\t0\t0.0\n",
      "3000\t1\t29.702970297029704\n",
      "4800\t2\t47.05882352941177\n",
      "9000\t3\t87.37864077669903\n",
      "9600\t4\t92.3076923076923\n",
      "13500\t5\t128.57142857142858\n",
      "18000\t6\t169.81132075471697\n",
      "12600\t7\t117.75700934579439\n",
      "0\t8\t0.0\n",
      "18900\t9\t173.39449541284404\n",
      "6000\t10\t54.54545454545455\n"
     ]
    }
   ],
   "source": [
    "print(\"y\", \"x\", \"y/(x+100)\", sep = \"\\t\")\n",
    "for i in range(len(x_list)):\n",
    "    print(y[i], x_list[i], y[i] / (x_list[i] + 100), sep = \"\\t\")"
   ]
  },
  {
   "cell_type": "markdown",
   "id": "04a8e272-4ad0-43ee-9fe2-5238369e22f1",
   "metadata": {},
   "source": [
    "Delete (del)"
   ]
  },
  {
   "cell_type": "code",
   "execution_count": 95,
   "id": "e27fbd92-e91f-4049-afe1-210f77e3013e",
   "metadata": {},
   "outputs": [
    {
     "name": "stdout",
     "output_type": "stream",
     "text": [
      "[-10, -9, -8, -7, -6, -5, -4, -3, -2, -1, 0, 1, 2, 3, 4, 5, 6, 7, 8, 9, 10]\n",
      "[-30000, -10800, -24000, -2100, -16200, -1500, -1200, -9000, -3600, -3000, 0, 3000, 4800, 9000, 9600, 13500, 18000, 12600, 0, 18900, 6000]\n"
     ]
    }
   ],
   "source": [
    "print(x_list)\n",
    "print(y)"
   ]
  },
  {
   "cell_type": "code",
   "execution_count": 97,
   "id": "80f938da-7f1e-4182-a55a-6398507fe928",
   "metadata": {},
   "outputs": [
    {
     "name": "stdout",
     "output_type": "stream",
     "text": [
      "[-9, -8, -7, -6, -5, -4, -3, -2, -1, 0, 1, 2, 3, 4, 5, 6, 7, 8, 9, 10]\n",
      "[-10800, -24000, -2100, -16200, -1500, -1200, -9000, -3600, -3000, 0, 3000, 4800, 9000, 9600, 13500, 18000, 12600, 0, 18900, 6000]\n"
     ]
    }
   ],
   "source": [
    "# delete very first (0th) element in a list\n",
    "del x_list[0]\n",
    "del y[0]\n",
    "print(x_list)\n",
    "print(y)\n",
    "#The del command deletes an item from a list using its index"
   ]
  },
  {
   "cell_type": "code",
   "execution_count": 99,
   "id": "ba0105b6-2fac-45b4-80da-f3a75d432dd6",
   "metadata": {},
   "outputs": [
    {
     "name": "stdout",
     "output_type": "stream",
     "text": [
      "[-9, -8, -7, -6, -5, -4, -3, -2, -1, 0, 1, 2, 3, 4, 5, 6, 7, 8, 9]\n",
      "[-10800, -24000, -2100, -16200, -1500, -1200, -9000, -3600, -3000, 0, 3000, 4800, 9000, 9600, 13500, 18000, 12600, 0, 18900]\n"
     ]
    }
   ],
   "source": [
    "# delete the very last (-1) element in a list\n",
    "del x_list[-1]\n",
    "del y[-1]\n",
    "print(x_list)\n",
    "print(y)"
   ]
  },
  {
   "cell_type": "markdown",
   "id": "612b39b7-3848-454b-bbc6-6a13e42c41d3",
   "metadata": {},
   "source": [
    "Sorting"
   ]
  },
  {
   "cell_type": "code",
   "execution_count": 102,
   "id": "70fd5579-750d-4ce3-924a-3df4e89c1391",
   "metadata": {},
   "outputs": [
    {
     "name": "stdout",
     "output_type": "stream",
     "text": [
      "[8, 10, 7, 2, 4, 0, 5, 8, 2, 3, 1, 7, 1, 0, 1, 1, 10, 10, 6, 10, 4, 7, 5, 0, 0, 1, 2, 3, 0, 9, 10, 0, 6, 10, 8, 9, 9, 5, 0, 7, 7, 1, 3, 8, 9, 6, 8, 10, 4, 0, 9, 6, 3, 0, 10, 3, 4, 1, 9, 5, 3, 6, 7, 0, 6, 7, 7, 7, 0, 3, 1, 1, 3, 9, 7, 1, 8, 5, 0, 6, 0, 6, 0, 10, 9, 5, 0, 9, 4, 8, 7, 0, 4, 8, 1, 2, 3, 6, 2, 9]\n"
     ]
    }
   ],
   "source": [
    "x = [random.randint(0,10) for i in range(100)]\n",
    "print(x)"
   ]
  },
  {
   "cell_type": "code",
   "execution_count": 104,
   "id": "fe27771a-58c5-4faa-9091-c5e14f6be159",
   "metadata": {},
   "outputs": [
    {
     "name": "stdout",
     "output_type": "stream",
     "text": [
      "[0, 0, 0, 0, 0, 0, 0, 0, 0, 0, 0, 0, 0, 0, 0, 0, 1, 1, 1, 1, 1, 1, 1, 1, 1, 1, 1, 2, 2, 2, 2, 2, 3, 3, 3, 3, 3, 3, 3, 3, 3, 4, 4, 4, 4, 4, 4, 5, 5, 5, 5, 5, 5, 6, 6, 6, 6, 6, 6, 6, 6, 6, 7, 7, 7, 7, 7, 7, 7, 7, 7, 7, 7, 8, 8, 8, 8, 8, 8, 8, 8, 9, 9, 9, 9, 9, 9, 9, 9, 9, 9, 10, 10, 10, 10, 10, 10, 10, 10, 10]\n"
     ]
    }
   ],
   "source": [
    "print(sorted(x))\n",
    "#The sorted function sorts integer lists by numeric order"
   ]
  },
  {
   "cell_type": "code",
   "execution_count": 106,
   "id": "8f3b1b9d-01fb-462e-aec5-5e7d05be0d7f",
   "metadata": {},
   "outputs": [
    {
     "name": "stdout",
     "output_type": "stream",
     "text": [
      "[10, 10, 10, 10, 10, 10, 10, 10, 10, 9, 9, 9, 9, 9, 9, 9, 9, 9, 9, 8, 8, 8, 8, 8, 8, 8, 8, 7, 7, 7, 7, 7, 7, 7, 7, 7, 7, 7, 6, 6, 6, 6, 6, 6, 6, 6, 6, 5, 5, 5, 5, 5, 5, 4, 4, 4, 4, 4, 4, 3, 3, 3, 3, 3, 3, 3, 3, 3, 2, 2, 2, 2, 2, 1, 1, 1, 1, 1, 1, 1, 1, 1, 1, 1, 0, 0, 0, 0, 0, 0, 0, 0, 0, 0, 0, 0, 0, 0, 0, 0]\n"
     ]
    }
   ],
   "source": [
    "# sort backward, from largest number to smallest\n",
    "print(sorted(x, reverse=True))\n",
    "#Sorts from greatest to least instead of least to greatest"
   ]
  },
  {
   "cell_type": "code",
   "execution_count": 108,
   "id": "880a05a5-647d-4093-b576-558228daccc9",
   "metadata": {},
   "outputs": [
    {
     "name": "stdout",
     "output_type": "stream",
     "text": [
      "['0', '1', '2', '3', '5', '7', '8', '9', 'a', 'b', 'c', 'd', 'e', 'e', 'e', 'h', 'i', 'j', 'k', 'n', 'o', 'p', 'r', 't', 'w']\n"
     ]
    }
   ],
   "source": [
    "print(sorted(\"cbadephkrtienj15839027ewo\"))\n",
    "#When a string contains letters and numbers the numbers are sorted first\n",
    "#then the letters are sorted"
   ]
  },
  {
   "cell_type": "code",
   "execution_count": 110,
   "id": "eb21f3a9-2ab9-41ae-bd58-750366b108db",
   "metadata": {},
   "outputs": [
    {
     "name": "stdout",
     "output_type": "stream",
     "text": [
      "['w', 't', 'r', 'p', 'o', 'n', 'k', 'j', 'i', 'h', 'e', 'e', 'e', 'd', 'c', 'b', 'a', '9', '8', '7', '5', '3', '2', '1', '0']\n"
     ]
    }
   ],
   "source": [
    "print(sorted(\"cbadephkrtienj15839027ewo\", reverse = True))"
   ]
  },
  {
   "cell_type": "code",
   "execution_count": 112,
   "id": "1b70b508-942d-47a0-b718-963e8f38df2d",
   "metadata": {},
   "outputs": [
    {
     "name": "stdout",
     "output_type": "stream",
     "text": [
      "['1', '11', '12', '13', '2', '3']\n"
     ]
    }
   ],
   "source": [
    "print(sorted([\"1\",\"2\",\"3\",\"11\",\"12\",\"13\"]))\n",
    "#Sort using lexiconical mapping"
   ]
  },
  {
   "cell_type": "code",
   "execution_count": 122,
   "id": "3224c85e-53f8-49e5-9f16-0a3c98350e79",
   "metadata": {},
   "outputs": [
    {
     "name": "stdout",
     "output_type": "stream",
     "text": [
      "[1, 2, 3, 11, 12, 13]\n"
     ]
    }
   ],
   "source": [
    "print(sorted([1,2,3,11,12,13]))"
   ]
  },
  {
   "cell_type": "markdown",
   "id": "ac513d84-e9a5-4e36-b89a-bd641c8848dc",
   "metadata": {},
   "source": [
    "Slicing Lists"
   ]
  },
  {
   "cell_type": "code",
   "execution_count": 116,
   "id": "099ad4ee-8bc2-464a-96f9-3c44b08483d1",
   "metadata": {},
   "outputs": [
    {
     "name": "stdout",
     "output_type": "stream",
     "text": [
      "[8, 7, 4, 5, 2, 1, 1, 1, 10, 6, 4, 5, 0, 2, 0, 10, 6, 8, 9, 0, 7, 3, 9, 8, 4, 9, 3, 10, 4, 9, 3, 7, 6, 7, 0, 1, 3, 7, 8, 0, 0, 0, 9, 0, 4, 7, 4, 1, 3, 2]\n"
     ]
    }
   ],
   "source": [
    "print(x[::2])\n",
    "#print x in increments of two"
   ]
  },
  {
   "cell_type": "code",
   "execution_count": 118,
   "id": "fa86c69d-7c13-400e-80ae-302cd1e5b627",
   "metadata": {},
   "outputs": [
    {
     "name": "stdout",
     "output_type": "stream",
     "text": [
      "[10, 2, 0, 8, 3, 7, 0, 1, 10, 10, 7, 0, 1, 3, 9, 0, 10, 9, 5, 7, 1, 8, 6, 10, 0, 6, 0, 3, 1, 5, 6, 0, 7, 7, 3, 1, 9, 1, 5, 6, 6, 10, 5, 9, 8, 0, 8, 2, 6, 9]\n"
     ]
    }
   ],
   "source": [
    "print(x[1::2])\n",
    "#Starting at index 1 print x in increments of two"
   ]
  },
  {
   "cell_type": "code",
   "execution_count": 120,
   "id": "e7894801-decb-4b41-ab31-9feade1684cc",
   "metadata": {},
   "outputs": [
    {
     "name": "stdout",
     "output_type": "stream",
     "text": [
      "[8, 10, 7, 2, 4, 0, 5, 8, 2, 3]\n"
     ]
    }
   ],
   "source": [
    "# only print the first 10 values of x (from 0 to 9)\n",
    "print(x[:10])"
   ]
  },
  {
   "cell_type": "code",
   "execution_count": 124,
   "id": "510cdffe-8969-4d7c-8a6b-2d1c77165cdb",
   "metadata": {},
   "outputs": [
    {
     "name": "stdout",
     "output_type": "stream",
     "text": [
      "[7, 0, 4, 8, 1, 2, 3, 6, 2, 9]\n"
     ]
    }
   ],
   "source": [
    "# only print the last 10 values of x (from 0 to 9)\n",
    "print(x[-10:])"
   ]
  },
  {
   "cell_type": "markdown",
   "id": "3a6cf6ce-dc23-4b28-836c-d3722e8d0de1",
   "metadata": {},
   "source": [
    "Cut a list in half"
   ]
  },
  {
   "cell_type": "code",
   "execution_count": 127,
   "id": "a8e42d4c-1772-4357-aefe-b4f279dfea56",
   "metadata": {},
   "outputs": [],
   "source": [
    "mid_x = int(len(x) / 2)\n",
    "#Find the middle index"
   ]
  },
  {
   "cell_type": "code",
   "execution_count": 129,
   "id": "f6afc945-0f42-4e26-83ba-04c228121d41",
   "metadata": {},
   "outputs": [
    {
     "name": "stdout",
     "output_type": "stream",
     "text": [
      "[8, 10, 7, 2, 4, 0, 5, 8, 2, 3, 1, 7, 1, 0, 1, 1, 10, 10, 6, 10, 4, 7, 5, 0, 0, 1, 2, 3, 0, 9, 10, 0, 6, 10, 8, 9, 9, 5, 0, 7, 7, 1, 3, 8, 9, 6, 8, 10, 4, 0]\n"
     ]
    }
   ],
   "source": [
    "print(x[:mid_x])"
   ]
  },
  {
   "cell_type": "code",
   "execution_count": 131,
   "id": "79ea8499-a494-4573-bc95-d14bf8664d0e",
   "metadata": {},
   "outputs": [
    {
     "name": "stdout",
     "output_type": "stream",
     "text": [
      "[9, 6, 3, 0, 10, 3, 4, 1, 9, 5, 3, 6, 7, 0, 6, 7, 7, 7, 0, 3, 1, 1, 3, 9, 7, 1, 8, 5, 0, 6, 0, 6, 0, 10, 9, 5, 0, 9, 4, 8, 7, 0, 4, 8, 1, 2, 3, 6, 2, 9]\n"
     ]
    }
   ],
   "source": [
    "print(x[mid_x:])"
   ]
  },
  {
   "cell_type": "markdown",
   "id": "6be20d51-0a54-435d-ad35-6e4d53ce0bf5",
   "metadata": {},
   "source": [
    "Nested for Loop"
   ]
  },
  {
   "cell_type": "code",
   "execution_count": 134,
   "id": "27dffa84-5d90-4fa2-afbf-0d11171a2cb9",
   "metadata": {},
   "outputs": [
    {
     "name": "stdout",
     "output_type": "stream",
     "text": [
      "i j i+j\n",
      "0 0 0\n",
      "0 1 1\n",
      "0 2 2\n",
      "1 0 1\n",
      "1 1 2\n",
      "1 2 3\n",
      "2 0 2\n",
      "2 1 3\n",
      "2 2 4\n"
     ]
    }
   ],
   "source": [
    "print(\"i\", \"j\", \"i+j\")\n",
    "for i in range(3):\n",
    "    for j in range(3):\n",
    "        print(i, j, i + j)"
   ]
  },
  {
   "cell_type": "code",
   "execution_count": 136,
   "id": "9b103c03-ca5f-4984-b326-bdf7081e81ca",
   "metadata": {},
   "outputs": [
    {
     "data": {
      "text/plain": [
       "[8, 10, 7]"
      ]
     },
     "execution_count": 136,
     "metadata": {},
     "output_type": "execute_result"
    }
   ],
   "source": [
    "x_slice = x[:3]\n",
    "x_slice"
   ]
  },
  {
   "cell_type": "code",
   "execution_count": 138,
   "id": "3edce9f8-2460-459b-8411-df6b03f6e10d",
   "metadata": {},
   "outputs": [
    {
     "data": {
      "text/plain": [
       "[8, 10, 7, 4]"
      ]
     },
     "execution_count": 138,
     "metadata": {},
     "output_type": "execute_result"
    }
   ],
   "source": [
    "x_slice.append(4)\n",
    "x_slice\n",
    "#Adds 4 to the slice of x"
   ]
  },
  {
   "cell_type": "code",
   "execution_count": 140,
   "id": "a8b9b236-e42f-4c94-8e0a-d4337eed94e6",
   "metadata": {},
   "outputs": [
    {
     "data": {
      "text/plain": [
       "[8, 10, 7]"
      ]
     },
     "execution_count": 140,
     "metadata": {},
     "output_type": "execute_result"
    }
   ],
   "source": [
    "last_xslice = x_slice.pop()\n",
    "x_slice\n",
    "#removes 4 and saves it as an object"
   ]
  },
  {
   "cell_type": "code",
   "execution_count": 142,
   "id": "eb1694ae-26e5-46d9-8f00-827017be1989",
   "metadata": {},
   "outputs": [
    {
     "data": {
      "text/plain": [
       "4"
      ]
     },
     "execution_count": 142,
     "metadata": {},
     "output_type": "execute_result"
    }
   ],
   "source": [
    "last_xslice"
   ]
  },
  {
   "cell_type": "code",
   "execution_count": null,
   "id": "2688a9bd-f559-4bbd-95d2-da14e993ae05",
   "metadata": {},
   "outputs": [],
   "source": [
    "# if a vlaue n is prime, it is only divisible by itself and 1.\n",
    "# this means that for every number from 2 to n - 1, val % i != 0 "
   ]
  }
 ],
 "metadata": {
  "kernelspec": {
   "display_name": "anaconda-panel-2023.05-py310",
   "language": "python",
   "name": "conda-env-anaconda-panel-2023.05-py310-py"
  },
  "language_info": {
   "codemirror_mode": {
    "name": "ipython",
    "version": 3
   },
   "file_extension": ".py",
   "mimetype": "text/x-python",
   "name": "python",
   "nbconvert_exporter": "python",
   "pygments_lexer": "ipython3",
   "version": "3.11.5"
  }
 },
 "nbformat": 4,
 "nbformat_minor": 5
}
