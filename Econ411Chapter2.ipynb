{
 "cells": [
  {
   "cell_type": "code",
   "execution_count": 2,
   "id": "9c8cc711-1e23-4f9a-9acb-fed70b7c8ff5",
   "metadata": {},
   "outputs": [
    {
     "name": "stdout",
     "output_type": "stream",
     "text": [
      "[]\n",
      "[1, 2, 3, 4, 5]\n",
      "[1.0, 2.0, 3.0, 4.0, 5.0]\n",
      "['Many words', 'impoverished meaning']\n",
      "[1, 2.0, 'Mix it up']\n"
     ]
    }
   ],
   "source": [
    "#lists.py\n",
    "empty_list = []\n",
    "#Lists are enclosed with square brackets in python\n",
    "int_list = [1,2,3,4,5]\n",
    "#Lists can contain integers,strings, and floats\n",
    "float_list = [1.0,2.0,3.0,4.0,5.0]\n",
    "string_list = [\"Many words\", \"impoverished meaning\"]\n",
    "mixed_list = [1,2.0, \"Mix it up\"]\n",
    "#Lists can contain items of different data types\n",
    "\n",
    "print(empty_list)  \n",
    "print(int_list)  \n",
    "print(float_list)  \n",
    "print(string_list)  \n",
    "print(mixed_list)"
   ]
  },
  {
   "cell_type": "code",
   "execution_count": 4,
   "id": "911b9369-6af9-4aee-a7db-f5058d90d4b3",
   "metadata": {},
   "outputs": [
    {
     "name": "stdout",
     "output_type": "stream",
     "text": [
      "list1: [5, 4, 9, 10, 3, 5]\n",
      "list2: [6, 3, 2, 1, 5, 3]\n",
      "[5, 4, 9, 10, 3, 5, 6, 3, 2, 1, 5, 3]\n"
     ]
    }
   ],
   "source": [
    "#concatenateLists\n",
    "\n",
    "list1 = [5, 4, 9, 10, 3, 5]\n",
    "list2 = [6, 3, 2, 1, 5, 3]\n",
    "join_lists = list1 + list2\n",
    "#lists can be concatenated in the same way that strings are \n",
    "#concatenated\n",
    "print(\"list1:\", list1)\n",
    "print(\"list2:\", list2)\n",
    "print(join_lists)"
   ]
  },
  {
   "cell_type": "code",
   "execution_count": 13,
   "id": "14829128-49a4-41e8-bd04-b1d8b89d79ad",
   "metadata": {},
   "outputs": [
    {
     "name": "stdout",
     "output_type": "stream",
     "text": [
      "[0, 1, 2, 3, 4, 5, 6, 7, 8]\n",
      "[0, 1, 2, 3, 4, 5, 6, 7, 8]\n",
      "[-9, -8, -7, -6, -5, -4, -3, -2, -1, 0, 1, 2, 3, 4, 5, 6, 7, 8]\n",
      "9\n",
      "18\n",
      "[-9, -6, -3, 0, 3, 6]\n",
      "6\n"
     ]
    }
   ],
   "source": [
    "#range.py\n",
    "list1 = list(range(9))\n",
    "#The above code is equivalent to list(range(0,9,1))\n",
    "list_1=[i for i in range(9)]\n",
    "list2 = list(range(-9,9))\n",
    "#list2 is twice as long as long list1 because the range of list2\n",
    "#is twice as large as that specified for list1\n",
    "list3 = list(range(-9,9,3))\n",
    "\n",
    "print(list1)\n",
    "print(list_1)\n",
    "print(list2)\n",
    "print(len(list1))\n",
    "print(len(list2))\n",
    "print(list3)\n",
    "print(len(list3))"
   ]
  },
  {
   "cell_type": "code",
   "execution_count": 15,
   "id": "c7ae9992-ec6c-491d-8152-655fef1337f6",
   "metadata": {},
   "outputs": [
    {
     "name": "stdout",
     "output_type": "stream",
     "text": [
      "0\n",
      "1\n",
      "2\n",
      "3\n",
      "4\n",
      "5\n",
      "6\n",
      "7\n",
      "8\n",
      "9\n"
     ]
    }
   ],
   "source": [
    "#forLoopAndRange.py\n",
    "for i in range(10):\n",
    "    print(i)\n",
    "#This loop prints integer values from 0 to 9. These iterations\n",
    "#can be thought of as an index for each iteration of the loop"
   ]
  },
  {
   "cell_type": "code",
   "execution_count": 17,
   "id": "8fd415d6-3f1f-4cc1-afe3-d55c648ad6ee",
   "metadata": {},
   "outputs": [
    {
     "name": "stdout",
     "output_type": "stream",
     "text": [
      "list1 elements: 5 4 9 10 3\n",
      "list2 elements: 6 3 2 1 5\n",
      "list3 elements: [5, 4, 9, 10, 3, 5, 6, 3, 2, 1, 5, 3]\n"
     ]
    }
   ],
   "source": [
    "#copyListElementsForLoop.py\n",
    "list1 = [5, 4, 9, 10, 3, 5]\n",
    "list2 = [6, 3, 2, 1, 5, 3]\n",
    "\n",
    "print(\"list1 elements:\", list1[0], list1[1], list1[2], list1[3], list1[4])\n",
    "print(\"list2 elements:\", list2[0], list2[1], list2[2], list2[3], list2[4])\n",
    "\n",
    "list3 = []\n",
    "j = len(list1)\n",
    "for i in range(j):\n",
    "    list3.append(list1[i])\n",
    "#The append function can be used to copy elements from an \n",
    "#exisitng list into an empty list i.e, copying the list\n",
    "k = len(list2)\n",
    "for i in range(k):\n",
    "    list3.append(list2[i])\n",
    "#The length of a list can be assigned to an object, in this case,\n",
    "#object k is set equal to the length of list2 which simplifies\n",
    "#the syntax of the for loop \n",
    "\n",
    "print(\"list3 elements:\", list3)"
   ]
  },
  {
   "cell_type": "code",
   "execution_count": 1,
   "id": "22e62a6e-3b76-44f7-afff-960822d3241b",
   "metadata": {},
   "outputs": [
    {
     "name": "stdout",
     "output_type": "stream",
     "text": [
      "list1 elements: 5 4 9 10 3\n",
      "list2 elements: 6 3 2 1 5\n",
      "list3: [11, 7, 11, 11, 8, 8]\n"
     ]
    }
   ],
   "source": [
    "#addListElements.py\n",
    "list1 = [5, 4, 9, 10, 3, 5]\n",
    "list2 = [6, 3, 2, 1, 5, 3]\n",
    "\n",
    "print(\"list1 elements:\", list1[0], list1[1], list1[2], list1[3], list1[4])\n",
    "print(\"list2 elements:\", list2[0], list2[1], list2[2], list2[3], list2[4])\n",
    "\n",
    "list3 = []\n",
    "j = len(list1)\n",
    "for i in range(j):\n",
    "    list3.append(list1[i] + list2[i])\n",
    "#Here we use a for loop to sum each element of list1 and list2 and then\n",
    "#we append these values to list3    \n",
    "print(\"list3:\", list3)"
   ]
  },
  {
   "cell_type": "code",
   "execution_count": 6,
   "id": "2b02a5ff-0998-49ee-a49a-34b60e8eecef",
   "metadata": {},
   "outputs": [
    {
     "name": "stdout",
     "output_type": "stream",
     "text": [
      "list1 elements: 5 4 9 10 3\n",
      "list2 elements: 6 3 2 1 5\n",
      "list3: [8, 8, 11, 11, 7, 11]\n",
      "list4: [10, 8, 8, 11, 11, 7, 11, 20, 30]\n"
     ]
    }
   ],
   "source": [
    "#addListElements.py\n",
    "list1 = [5, 4, 9, 10, 3, 5]\n",
    "list2 = [6, 3, 2, 1, 5, 3]\n",
    "\n",
    "print(\"list1 elements:\", list1[0], list1[1], list1[2], list1[3], list1[4])\n",
    "print(\"list2 elements:\", list2[0], list2[1], list2[2], list2[3], list2[4])\n",
    "\n",
    "list3 = []\n",
    "j = len(list1)\n",
    "for i in range(j):\n",
    "    list3.insert(0,list1[i] + list2[i])\n",
    "\n",
    "list4=[10,20,30]\n",
    "k=len(list2)\n",
    "for i in range(k):\n",
    "    list4.insert(1,list1[i] + list2[i])\n",
    "#The insert function inserts the summed elements of list1 and list2\n",
    "#at the specified index (in this case index 1).\n",
    "print(\"list3:\", list3)\n",
    "print(\"list4:\", list4)"
   ]
  },
  {
   "cell_type": "code",
   "execution_count": 8,
   "id": "20347089-0049-4a74-bd41-647a3caa475b",
   "metadata": {},
   "outputs": [
    {
     "name": "stdout",
     "output_type": "stream",
     "text": [
      "execute script\n",
      "execute script\n"
     ]
    }
   ],
   "source": [
    "if True:\n",
    "    print(\"execute script\")\n",
    "#Boolean logic is used to control the flow of functions in python    \n",
    "if True:\n",
    "    print(\"execute script\")\n",
    "else:\n",
    "    pass\n",
    "#If a condition evaluates to true the block of code associated with a\n",
    "#true statement will execute. In this case the print statement executes\n",
    "if False:\n",
    "    print(\"execute script\")\n",
    "else:\n",
    "    pass\n",
    "#If a condition evaluates to false the block of code associated with a \n",
    "#false statement will execute. In this case, nothing will happen 'pass'."
   ]
  },
  {
   "cell_type": "code",
   "execution_count": 10,
   "id": "a05a51d3-4c96-45c1-b50e-e28564de06e8",
   "metadata": {},
   "outputs": [
    {
     "name": "stdout",
     "output_type": "stream",
     "text": [
      "list1 elements: 5 4 9 10 3\n",
      "list2 elements: 6 3 2 1 5\n",
      "list3: [11, 7, 11, 11, 8, 8]\n"
     ]
    }
   ],
   "source": [
    "#addListElements3.py\n",
    "list1 = [5, 4, 9, 10, 3, 5]\n",
    "list2 = [6, 3, 2, 1, 5, 3]\n",
    "print(\"list1 elements:\", list1[0], list1[1], list1[2], list1[3], list1[4])\n",
    "print(\"list2 elements:\", list2[0], list2[1], list2[2], list2[3], list2[4])\n",
    "\n",
    "list3 = []\n",
    "j = len(list1)\n",
    "if j == len(list2):\n",
    "    for i in range(0, len(list2)):\n",
    "        list3.insert(i,list1[i] + list2[i])\n",
    "print(\"list3:\", list3)\n",
    "#Here we use a bool condition to determine if a for loop should execute.\n",
    "#if len(list1)==len(list2) sum list1 and list2 element for element and \n",
    "#insert into list3 begining at index 0, ending at index len(list2)."
   ]
  },
  {
   "cell_type": "code",
   "execution_count": 12,
   "id": "24e2b8e7-cea9-454d-9c6e-3d72a8817903",
   "metadata": {},
   "outputs": [
    {
     "name": "stdout",
     "output_type": "stream",
     "text": [
      "list1 elements: 5 4 9 10 3\n",
      "list2 elements: 6 3 2 1 5\n",
      "Lists are not the same length, cannot perform element-wise operations.\n",
      "list3: []\n"
     ]
    }
   ],
   "source": [
    "#addListElements4.py\n",
    "list1 = [5, 4, 9, 10, 3, 5]\n",
    "list2 = [6, 3, 2, 1, 5]\n",
    "print(\"list1 elements:\", list1[0], list1[1], list1[2], list1[3], list1[4])\n",
    "print(\"list2 elements:\", list2[0], list2[1], list2[2], list2[3], list2[4])\n",
    "\n",
    "list3 = []\n",
    "j = len(list1)\n",
    "if j == len(list2):\n",
    "    for i in range(0, len(list2)):\n",
    "        list3.insert(i,list1[i] + list2[i])\n",
    "else:\n",
    "    print(\"Lists are not the same length, cannot perform element-wise operations.\")\n",
    "print(\"list3:\", list3)\n",
    "#Here we compare two lists that are not of equal length. Moreover,\n",
    "#we incorporate control flow into our list operation, because we cannot\n",
    "#perform element-wise operations on two lists that don't contain the\n",
    "#same number of elements. i.e., if lists are of equal length perform\n",
    "#the operation, else return a statement that handles the error."
   ]
  },
  {
   "cell_type": "code",
   "execution_count": 206,
   "id": "451e03f9-d9a7-4204-acf1-d48ce668e3fb",
   "metadata": {},
   "outputs": [
    {
     "name": "stdout",
     "output_type": "stream",
     "text": [
      "[0, 3, 6, 9, 12, 15, 18, 21, 24, 27, 30, 33, 36, 39, 42, 45, 48, 51, 54, 57, 60, 63, 66, 69, 72, 75, 78, 81, 84, 87, 90, 93, 96, 99, 102, 105, 108, 111, 114, 117, 120, 123, 126, 129, 132, 135, 138, 141, 144, 147, 150, 153, 156, 159, 162, 165, 168, 171, 174, 177, 180, 183, 186, 189, 192, 195, 198, 201, 204, 207, 210, 213, 216, 219, 222, 225, 228, 231, 234, 237, 240, 243, 246, 249, 252, 255, 258, 261, 264, 267, 270, 273, 276, 279, 282, 285, 288, 291, 294, 297]\n",
      "100\n",
      "<class 'int'>\n",
      "['0', '3', '6', '9', '12', '15', '18', '21', '24', '27', '30', '33', '36', '39', '42', '45', '48', '51', '54', '57', '60', '63', '66', '69', '72', '75', '78', '81', '84', '87', '90', '93', '96', '99', '102', '105', '108', '111', '114', '117', '120', '123', '126', '129', '132', '135', '138', '141', '144', '147', '150', '153', '156', '159', '162', '165', '168', '171', '174', '177', '180', '183', '186', '189', '192', '195', '198', '201', '204', '207', '210', '213', '216', '219', '222', '225', '228', '231', '234', '237', '240', '243', '246', '249', '252', '255', '258', '261', '264', '267', '270', '273', '276', '279', '282', '285', '288', '291', '294', '297']\n",
      "100\n",
      "<class 'str'>\n",
      "0369121518212427303336394245485154576063666972757881848790939699102105108111114117120123126129132135138141144147150153156159162165168171174177180183186189192195198201204207210213216219222225228231234237240243246249252255258261264267270273276279282285288291294297\n",
      "297\n",
      "<class 'int'>\n",
      "[297, 294, 291, 288, 285, 282, 279, 276, 273, 270, 267, 264, 261, 258, 255, 252, 249, 246, 243, 240, 237, 234, 231, 228, 225, 222, 219, 216, 213, 210, 207, 204, 201, 198, 195, 192, 189, 186, 183, 180, 177, 174, 171, 168, 165, 162, 159, 156, 153, 150, 147, 144, 141, 138, 135, 132, 129, 126, 123, 120, 117, 114, 111, 108, 105, 102, 99, 96, 93, 90, 87, 84, 81, 78, 75, 72, 69, 66, 63, 60, 57, 54, 51, 48, 45, 42, 39, 36, 33, 30, 27, 24, 21, 18, 15, 12, 9, 6, 3, 0]\n",
      "49.5\n",
      "[147, 150, 153, 156, 159, 162, 165, 168, 171, 174, 177, 180, 183, 186, 189, 192, 195, 198, 201, 204, 207, 210, 213, 216, 219, 222, 225, 228, 231, 234, 237, 240, 243, 246, 249, 252, 255, 258, 261, 264, 267, 270, 273, 276, 279, 282, 285, 288, 291, 294]\n",
      "50\n",
      "06111222333344455566667778889999120181141102162123184144105165126187147108168129180240201261222283243204264225286246207267228289249\n"
     ]
    },
    {
     "data": {
      "text/plain": [
       "131"
      ]
     },
     "execution_count": 206,
     "metadata": {},
     "output_type": "execute_result"
    }
   ],
   "source": [
    "#Exercises\n",
    "list1=[i for i in range(0,300,3)]       #1\n",
    "print(list1)\n",
    "print(len(list1))\n",
    "print(type(list1[5]))\n",
    "list2=[str(item) for item in list1]     #2\n",
    "print(list2)\n",
    "print(len(list2))\n",
    "print(type(list2[5]))\n",
    "g=''.join([item for item in list2])     #3\n",
    "print(g)\n",
    "len(g)\n",
    "x = list1.pop()\n",
    "print(x)\n",
    "print(type(x))\n",
    "list3=[]\n",
    "for index in range(len(list1)):\n",
    "    list3.insert(0,list1[index])\n",
    "list3.insert(0,x)                       #4\n",
    "print(list3)\n",
    "y=len(list1)/2\n",
    "print(y)\n",
    "list4=[]\n",
    "for index in range(int(y),len(list1)):\n",
    "    list4.insert(50,list1[index])\n",
    "print(list4)                            #5\n",
    "print(len(list4))\n",
    "list5=[]\n",
    "for index in range(0,len(g),2):\n",
    "    list5.append(g[index])\n",
    "f=''.join([item for item in list5])\n",
    "print(f)                            #6\n",
    "len(f)\n"
   ]
  },
  {
   "cell_type": "markdown",
   "id": "6e1dd147-badb-4e14-86e1-30bab5655be2",
   "metadata": {},
   "source": [
    "Lists and tuples are both data structures in python. The list has dynamic characteristics while the tuple has static characteristics.\n",
    "In other words, lists can be modified and tuples cannot. The tuple is \n",
    "processed faster than the list because of its static nature. This is the\n",
    "advantage of the tuple over the list in python."
   ]
  },
  {
   "cell_type": "code",
   "execution_count": null,
   "id": "ffb1c0f9-074e-49d9-af89-cf1e590b0c0d",
   "metadata": {},
   "outputs": [],
   "source": []
  }
 ],
 "metadata": {
  "kernelspec": {
   "display_name": "anaconda-panel-2023.05-py310",
   "language": "python",
   "name": "conda-env-anaconda-panel-2023.05-py310-py"
  },
  "language_info": {
   "codemirror_mode": {
    "name": "ipython",
    "version": 3
   },
   "file_extension": ".py",
   "mimetype": "text/x-python",
   "name": "python",
   "nbconvert_exporter": "python",
   "pygments_lexer": "ipython3",
   "version": "3.11.5"
  }
 },
 "nbformat": 4,
 "nbformat_minor": 5
}
