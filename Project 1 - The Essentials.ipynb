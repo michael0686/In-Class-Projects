{
 "cells": [
  {
   "cell_type": "markdown",
   "id": "61333e5f-aac2-47ef-addd-f7c4e4094cd7",
   "metadata": {},
   "source": [
    "Project One: The Essentials"
   ]
  },
  {
   "cell_type": "markdown",
   "id": "71c30a79-7ca5-48f7-b0ff-daea604cea24",
   "metadata": {},
   "source": [
    "Execute Cell Options\n",
    "Create new cells using alt+Enter Run cell with ctrl+Enter Run cell and move to next cell using shift+Enter"
   ]
  },
  {
   "cell_type": "code",
   "execution_count": 36,
   "id": "adfcb56e-609c-4469-b038-17c722f9eae8",
   "metadata": {},
   "outputs": [
    {
     "name": "stdout",
     "output_type": "stream",
     "text": [
      "[]\n",
      "[]\n"
     ]
    },
    {
     "data": {
      "text/plain": [
       "[]"
      ]
     },
     "execution_count": 36,
     "metadata": {},
     "output_type": "execute_result"
    }
   ],
   "source": [
    "x=[]\n",
    "print(x)\n",
    "print(x)\n",
    "x"
   ]
  },
  {
   "cell_type": "code",
   "execution_count": 6,
   "id": "d200bd67-6b0d-49c9-86a7-82a00c0ec9c9",
   "metadata": {},
   "outputs": [
    {
     "name": "stdout",
     "output_type": "stream",
     "text": [
      "Hello World!\n"
     ]
    }
   ],
   "source": [
    "#Helloworld.py\n",
    "print(\"Hello World!\")\n",
    "#If you instruct python to print a string, it will return the string\n",
    "#without quotes"
   ]
  },
  {
   "cell_type": "code",
   "execution_count": 8,
   "id": "3541b8ff-f458-4b97-9abc-86a5884a221c",
   "metadata": {},
   "outputs": [
    {
     "data": {
      "text/plain": [
       "'Hello World!'"
      ]
     },
     "execution_count": 8,
     "metadata": {},
     "output_type": "execute_result"
    }
   ],
   "source": [
    "\"Hello World!\"\n",
    "#If you type a string into python and execute the code it will return \n",
    "#the string you entered in quotes"
   ]
  },
  {
   "cell_type": "code",
   "execution_count": 10,
   "id": "e83681f0-0a66-47db-8a3f-aa4b2ef95274",
   "metadata": {},
   "outputs": [
    {
     "data": {
      "text/plain": [
       "'Hello World'"
      ]
     },
     "execution_count": 10,
     "metadata": {},
     "output_type": "execute_result"
    }
   ],
   "source": [
    "'Hello World'\n",
    "#In python we can use double quotes and single quotes for strings"
   ]
  },
  {
   "cell_type": "code",
   "execution_count": 12,
   "id": "39c1bd40-fe58-4c8e-b57b-d47b0174cf6f",
   "metadata": {},
   "outputs": [
    {
     "name": "stdout",
     "output_type": "stream",
     "text": [
      "\"Hello World!\"\n"
     ]
    }
   ],
   "source": [
    "print('\"Hello World!\"')\n",
    "#If you print a string that includes quotes within quotes python will \n",
    "#print the string with the inner quotes included"
   ]
  },
  {
   "cell_type": "code",
   "execution_count": 14,
   "id": "7e8c026c-2394-47d2-bd87-9b3ce58d3553",
   "metadata": {},
   "outputs": [
    {
     "data": {
      "text/plain": [
       "'Hello World'"
      ]
     },
     "execution_count": 14,
     "metadata": {},
     "output_type": "execute_result"
    }
   ],
   "source": [
    "msg = \"Hello World\"\n",
    "msg\n",
    "#In python strings can be saved as objects"
   ]
  },
  {
   "cell_type": "code",
   "execution_count": 41,
   "id": "2695a803-c21f-4cc9-a115-c0d3a1cd075c",
   "metadata": {},
   "outputs": [
    {
     "name": "stdout",
     "output_type": "stream",
     "text": [
      "Hello World\n"
     ]
    }
   ],
   "source": [
    "print(msg)\n",
    "#If you save a string as an object in python and call the print function\n",
    "#python will print the string without quotes. if you call the \n",
    "#it will return the object with quotes"
   ]
  },
  {
   "cell_type": "markdown",
   "id": "4f1fd4bf-30c6-477c-b0c6-57ca782bf501",
   "metadata": {},
   "source": [
    "Methods"
   ]
  },
  {
   "cell_type": "code",
   "execution_count": 18,
   "id": "91825f02-9e92-4037-8eca-99af1efc6dbf",
   "metadata": {},
   "outputs": [
    {
     "data": {
      "text/plain": [
       "'hello world'"
      ]
     },
     "execution_count": 18,
     "metadata": {},
     "output_type": "execute_result"
    }
   ],
   "source": [
    "msg.lower()\n",
    "#String methods can be used to transform strings. In this case, the \n",
    "#lower() function returns the string with all characters converted to\n",
    "#lower case"
   ]
  },
  {
   "cell_type": "code",
   "execution_count": 20,
   "id": "851cfded-13c4-4328-8654-3c8838957ff3",
   "metadata": {},
   "outputs": [
    {
     "data": {
      "text/plain": [
       "'HELLO WORLD'"
      ]
     },
     "execution_count": 20,
     "metadata": {},
     "output_type": "execute_result"
    }
   ],
   "source": [
    "msg.upper()\n",
    "#The upper() string method converts all leters to uppercase"
   ]
  },
  {
   "cell_type": "code",
   "execution_count": 28,
   "id": "1cc566c5-0a93-4c29-b294-d97aa03d141b",
   "metadata": {},
   "outputs": [
    {
     "data": {
      "text/plain": [
       "'Hello World'"
      ]
     },
     "execution_count": 28,
     "metadata": {},
     "output_type": "execute_result"
    }
   ],
   "source": [
    "msg.lower().title()\n",
    "#The string method called last takes precedence"
   ]
  },
  {
   "cell_type": "code",
   "execution_count": 26,
   "id": "650c3a3c-4884-4bbe-b052-973d39fd2a86",
   "metadata": {},
   "outputs": [
    {
     "data": {
      "text/plain": [
       "'hello world'"
      ]
     },
     "execution_count": 26,
     "metadata": {},
     "output_type": "execute_result"
    }
   ],
   "source": [
    "msg.title().lower()"
   ]
  },
  {
   "cell_type": "code",
   "execution_count": 56,
   "id": "00779720-b621-4e60-8be9-70fe3d105a8f",
   "metadata": {},
   "outputs": [
    {
     "name": "stdout",
     "output_type": "stream",
     "text": [
      "Hello World\n",
      "HELLO WORLD\n"
     ]
    }
   ],
   "source": [
    "msg.upper()\n",
    "print(msg)\n",
    "#Notice that the string 'msg' is unchanged. We must save msg.upper() as\n",
    "#a new object and then print it to transform it\n",
    "MSG=msg.upper()\n",
    "print(MSG)"
   ]
  },
  {
   "cell_type": "code",
   "execution_count": 44,
   "id": "ec13b756-4caa-46c6-943c-7faa6a036e8b",
   "metadata": {},
   "outputs": [
    {
     "name": "stdout",
     "output_type": "stream",
     "text": [
      "Data\n",
      "Label\n"
     ]
    }
   ],
   "source": [
    "#str.replace(\"string_to_replace\", \"new_string_to_replace_the_old_string\")\n",
    "print(\"data_label\".title().replace(\"_\",\"\\n\"))\n",
    "#We can use the replace function to replace the underscore in the string\n",
    "#'data_label' with a newline ('\\n') to get the output below."
   ]
  },
  {
   "cell_type": "code",
   "execution_count": null,
   "id": "0e917d99-6a07-459a-8972-22924cff39c6",
   "metadata": {},
   "outputs": [],
   "source": [
    "Concatenate"
   ]
  },
  {
   "cell_type": "markdown",
   "id": "49199ad0-defc-4b29-a02f-0668ca5dddb9",
   "metadata": {},
   "source": [
    "Concatenate Objects\n",
    "Use the '+' operator to concatenate strings, lists, etc.\n",
    "Use the '+' operator to sum integers and floats"
   ]
  },
  {
   "cell_type": "code",
   "execution_count": 46,
   "id": "41433172-9400-4bcd-99fc-aa87d9dfda87",
   "metadata": {},
   "outputs": [
    {
     "data": {
      "text/plain": [
       "('123', 6)"
      ]
     },
     "execution_count": 46,
     "metadata": {},
     "output_type": "execute_result"
    }
   ],
   "source": [
    "\"1\" + \"2\" + \"3\", 1+2+3\n",
    "#Here we use '+' to join strings '1','2', and '3' to create '123', and \n",
    "#we use '+' to sum integers 1, 2, and 3 to create 6."
   ]
  },
  {
   "cell_type": "code",
   "execution_count": 48,
   "id": "36dd9ef7-7870-4ec2-82a8-3d2b5fa95e6f",
   "metadata": {},
   "outputs": [
    {
     "data": {
      "text/plain": [
       "'Hello World123'"
      ]
     },
     "execution_count": 48,
     "metadata": {},
     "output_type": "execute_result"
    }
   ],
   "source": [
    "msg + \"123\"\n",
    "#Here we concatenate string object 'msg' with string '123' to get the\n",
    "#output below"
   ]
  },
  {
   "cell_type": "code",
   "execution_count": 50,
   "id": "71c0d281-4a1f-4200-a427-15183f190839",
   "metadata": {},
   "outputs": [
    {
     "data": {
      "text/plain": [
       "'Happy 5th Birthday'"
      ]
     },
     "execution_count": 50,
     "metadata": {},
     "output_type": "execute_result"
    }
   ],
   "source": [
    "f\"Happy {5}th Birthday\""
   ]
  },
  {
   "cell_type": "code",
   "execution_count": 62,
   "id": "14dd65f8-6ea2-4d3e-a6f4-14415fe540e9",
   "metadata": {},
   "outputs": [
    {
     "name": "stdout",
     "output_type": "stream",
     "text": [
      "Happy 1th Birthday\n",
      "Happy 2th Birthday\n",
      "Happy 3th Birthday\n",
      "Happy 4th Birthday\n",
      "Happy 5th Birthday\n",
      "Happy 6th Birthday\n",
      "Happy 7th Birthday\n",
      "Happy 8th Birthday\n",
      "Happy 9th Birthday\n",
      "Happy 10th Birthday\n"
     ]
    }
   ],
   "source": [
    "for i in range(1,10+1):\n",
    "    print(f\"Happy {i}th Birthday\")\n",
    "#We can use f-strings to place a string of our choice within a string. \n",
    "#In this case, the iterations of a for loop are placed in curly braces\n",
    "#within the string. The output for each line reflects the current \n",
    "#iteration of the for loop."
   ]
  },
  {
   "cell_type": "code",
   "execution_count": 64,
   "id": "9422eef5-fa0c-4fc3-8c75-2c7f8266f887",
   "metadata": {},
   "outputs": [
    {
     "name": "stdout",
     "output_type": "stream",
     "text": [
      "[0, 1, 2, 3, 4, 5, 6, 7, 8, 9, 10, 11, 12, 13, 14, 15, 16, 17, 18, 19, 20, 21, 22, 23, 24, 25, 26, 27, 28, 29, 30, 31, 32, 33, 34, 35, 36, 37, 38, 39, 40, 41, 42, 43, 44, 45, 46, 47, 48, 49, 50, 51, 52, 53, 54, 55, 56, 57, 58, 59, 60, 61, 62, 63, 64, 65, 66, 67, 68, 69, 70, 71, 72, 73, 74, 75, 76, 77, 78, 79, 80, 81, 82, 83, 84, 85, 86, 87, 88, 89, 90, 91, 92, 93, 94, 95, 96, 97, 98, 99]\n"
     ]
    }
   ],
   "source": [
    "# generator function\n",
    "print([i for i in range(100)])\n",
    "#Generator functions can be used to generate simulated data. In this case,\n",
    "#we've instructed python to print integer values between 0 and 99 using\n",
    "#list comprehension syntax and the range function."
   ]
  },
  {
   "cell_type": "code",
   "execution_count": 66,
   "id": "019c0978-be50-4312-ab9c-03e81af14c16",
   "metadata": {},
   "outputs": [
    {
     "name": "stdout",
     "output_type": "stream",
     "text": [
      "The Zen of Python, by Tim Peters\n",
      "\n",
      "Beautiful is better than ugly.\n",
      "Explicit is better than implicit.\n",
      "Simple is better than complex.\n",
      "Complex is better than complicated.\n",
      "Flat is better than nested.\n",
      "Sparse is better than dense.\n",
      "Readability counts.\n",
      "Special cases aren't special enough to break the rules.\n",
      "Although practicality beats purity.\n",
      "Errors should never pass silently.\n",
      "Unless explicitly silenced.\n",
      "In the face of ambiguity, refuse the temptation to guess.\n",
      "There should be one-- and preferably only one --obvious way to do it.\n",
      "Although that way may not be obvious at first unless you're Dutch.\n",
      "Now is better than never.\n",
      "Although never is often better than *right* now.\n",
      "If the implementation is hard to explain, it's a bad idea.\n",
      "If the implementation is easy to explain, it may be a good idea.\n",
      "Namespaces are one honking great idea -- let's do more of those!\n"
     ]
    }
   ],
   "source": [
    "import this"
   ]
  },
  {
   "cell_type": "markdown",
   "id": "f06d5434-0cc8-4c4f-bce3-d35b2a2dca28",
   "metadata": {},
   "source": [
    "Printing(Poetry)"
   ]
  },
  {
   "cell_type": "code",
   "execution_count": 90,
   "id": "f33d27e6-ba91-4ebb-a2b9-60bdd867d8ea",
   "metadata": {},
   "outputs": [],
   "source": [
    "line1 = \"You thought it would be easy\"\n",
    "line2 = \"You thought it would be strange\"\n",
    "line3 = \"But then you started coding\"\n",
    "line4 = \"Things never were the same\"\n",
    "#A great way to learn string concatenation is by writing poetry using code."
   ]
  },
  {
   "cell_type": "code",
   "execution_count": 70,
   "id": "d5ac1e51-59e4-4889-ad24-a8fcb6fe461c",
   "metadata": {},
   "outputs": [
    {
     "data": {
      "text/plain": [
       "('You thought it would be easy',\n",
       " 'You thought it would be strange',\n",
       " 'But then you started coding',\n",
       " 'Things never were the same')"
      ]
     },
     "execution_count": 70,
     "metadata": {},
     "output_type": "execute_result"
    }
   ],
   "source": [
    "line1, line2, line3, line4\n",
    "#If we call multiple string objects with commas between each object the\n",
    "#output is a tuple"
   ]
  },
  {
   "cell_type": "code",
   "execution_count": 72,
   "id": "5b82d567-f8a3-47e4-a3a0-67102ee3a482",
   "metadata": {},
   "outputs": [
    {
     "name": "stdout",
     "output_type": "stream",
     "text": [
      "You thought it would be easy You thought it would be strange But then you started coding Things never were the same\n"
     ]
    }
   ],
   "source": [
    "print(line1, line2, line3, line4)\n",
    "#When the print function is called commas that seperate objects are interpreted\n",
    "#as spaces between the objects"
   ]
  },
  {
   "cell_type": "code",
   "execution_count": 74,
   "id": "b0278875-8760-4796-bec5-1dd32b8a24db",
   "metadata": {},
   "outputs": [
    {
     "name": "stdout",
     "output_type": "stream",
     "text": [
      "You thought it would be easy\n",
      "You thought it would be strange\n",
      "But then you started coding\n",
      "Things never were the same\n"
     ]
    }
   ],
   "source": [
    "print(line1, line2, line3, line4, sep = \"\\n\")\n",
    "#When the print function is called a seperator can be specified as an\n",
    "#argument. in this case, the newline escape sequence ('\\n') is used to\n",
    "#seperate each object which prints each object on its own line."
   ]
  },
  {
   "cell_type": "code",
   "execution_count": 76,
   "id": "1ae6114e-2980-430d-91f9-f691f86528fd",
   "metadata": {},
   "outputs": [
    {
     "name": "stdout",
     "output_type": "stream",
     "text": [
      "You thought it would be easy::You thought it would be strange::But then you started coding::Things never were the same\n"
     ]
    }
   ],
   "source": [
    "print(line1, line2, line3, line4, sep = \"::\")\n",
    "#In this case we use two colons to seperate each object when we print them"
   ]
  },
  {
   "cell_type": "code",
   "execution_count": 92,
   "id": "cf184be2-e922-4607-8c18-107b673f90ce",
   "metadata": {},
   "outputs": [
    {
     "name": "stdout",
     "output_type": "stream",
     "text": [
      "You thought it would be easy+You thought it would be strange+But then you started coding+Things never were the same\n"
     ]
    }
   ],
   "source": [
    "print(line1, line2, line3, line4, sep = \"+\")\n",
    "#Here we use a plus sign to seperate each object"
   ]
  },
  {
   "cell_type": "markdown",
   "id": "d92a8083-ae8a-4e60-b63a-774a21db5c5b",
   "metadata": {},
   "source": [
    "Double quotes, single quotes, and escape (\\)"
   ]
  },
  {
   "cell_type": "code",
   "execution_count": 80,
   "id": "354c251e-b1e8-4ec3-83f4-526b86b03676",
   "metadata": {},
   "outputs": [
    {
     "name": "stdout",
     "output_type": "stream",
     "text": [
      "You thought it would be easy\tYou thought it would be strange\tBut then you started coding\tThings never were the same\n"
     ]
    }
   ],
   "source": [
    "print(line1, line2, line3, line4, sep = \"\\t\")\n",
    "#Here we insert tabs between each object"
   ]
  },
  {
   "cell_type": "code",
   "execution_count": 82,
   "id": "ebab2bd8-9ad5-40a3-8600-16985f05e271",
   "metadata": {},
   "outputs": [
    {
     "name": "stdout",
     "output_type": "stream",
     "text": [
      "We may use 'single quotes' within single quotes. This will change the interpretation of the single quote to a character that is a string, instead of ending the string initiated by single quotes\n",
      "Or we may use \"double quotes\" in double quotes.\n",
      "We may use two backslashes to print a single backslash: \\\n",
      "Every\n",
      "word\n",
      "is\n",
      "a\n",
      "new\n",
      "line\n",
      "A new\n",
      "line and a \t tab\n"
     ]
    }
   ],
   "source": [
    "single_quotes = 'We may use \\'single quotes\\' within single quotes. This will change the \\\n",
    "interpretation of the single quote to a character that is a string, instead of ending the \\\n",
    "string initiated by single quotes'\n",
    "#In python we can use a '\\' to include single quotes within single quotes\n",
    "double_quotes = \"Or we may use \\\"double quotes\\\" in double quotes.\"\n",
    "#We can do the same with double quotes within double quotes\n",
    "read_backslash = \"We may use two backslashes to print a single backslash: \\\\\"\n",
    "#We can use two backslahes in a string to include one backslash when printed\n",
    "lines = \"Every\\nword\\nis\\na\\nnew\\nline\"\n",
    "new_line_and_tab=\"A new\\nline and a \\t tab\"\n",
    "#We can use escape sequences like '\\n' and '\\t' to modify the output of\n",
    "#a string when we call it using the print function\n",
    "print(single_quotes)\n",
    "print(double_quotes)\n",
    "print(read_backslash)\n",
    "print(lines)\n",
    "print(new_line_and_tab)"
   ]
  },
  {
   "cell_type": "code",
   "execution_count": 85,
   "id": "d6ae115d-4ba3-4b86-bd74-ce6429f644db",
   "metadata": {},
   "outputs": [
    {
     "name": "stdout",
     "output_type": "stream",
     "text": [
      "no spaces removed:\n",
      "     Look at all the spaces in the text!    \n",
      "Remove left spaces:\n",
      "Look at all the spaces in the text!    \n",
      "Remove right spaces:\n",
      "    Look at all the spaces in the text!\n",
      "Remove left and right spaces:\n",
      "Look at all the spaces in the text!\n"
     ]
    }
   ],
   "source": [
    "#strip.py\n",
    "spaces = \"    Look at all the spaces in the text!    \"\n",
    "print(\"no spaces removed:\\n\", spaces)\n",
    "\n",
    "remove_left_spaces = spaces.lstrip()\n",
    "remove_right_spaces = spaces.rstrip()\n",
    "remove_left_and_right_spaces = spaces.strip()\n",
    "#We can use the lstrip(),rstrip(), and strip() functions to strip unnecessary\n",
    "#from strings\n",
    "print(\"Remove left spaces:\\n\" + remove_left_spaces)\n",
    "print(\"Remove right spaces:\\n\" + remove_right_spaces)\n",
    "print(\"Remove left and right spaces:\\n\" + remove_left_and_right_spaces)"
   ]
  },
  {
   "cell_type": "code",
   "execution_count": 88,
   "id": "392d22e4-bf5c-4c1d-bb28-f3a07f6f5551",
   "metadata": {},
   "outputs": [
    {
     "name": "stdout",
     "output_type": "stream",
     "text": [
      "Remove all spaces:\n",
      "Lookatallthespacesinthetext!\n"
     ]
    }
   ],
   "source": [
    "remove_all_spaces = spaces.replace(\" \", \"\")\n",
    "print(\"Remove all spaces:\\n\" + remove_all_spaces)\n",
    "#We can use the replace function to replace each space in a string with a null string\n",
    "#This is useful, however notice that the spaces in between the words in the\n",
    "#string were also removed. In this case, lstrip() and rstip() functions may\n",
    "#be more useful"
   ]
  },
  {
   "cell_type": "markdown",
   "id": "a46e1a79-db7a-4332-be82-105fdbb072db",
   "metadata": {},
   "source": [
    "Values"
   ]
  },
  {
   "cell_type": "code",
   "execution_count": 96,
   "id": "c02b1a0f-eac2-4d2f-9152-63e26fbf6c10",
   "metadata": {},
   "outputs": [
    {
     "data": {
      "text/plain": [
       "(3, 3.0, '3')"
      ]
     },
     "execution_count": 96,
     "metadata": {},
     "output_type": "execute_result"
    }
   ],
   "source": [
    "xint = 3\n",
    "xfloat = 3.\n",
    "xstr = \"3\"\n",
    "xint, xfloat, xstr\n",
    "#There are three data types in python; strings, integers, and floats"
   ]
  },
  {
   "cell_type": "code",
   "execution_count": 102,
   "id": "0e716f67-b6f5-4377-b60e-779d79003ade",
   "metadata": {},
   "outputs": [
    {
     "name": "stdout",
     "output_type": "stream",
     "text": [
      "3 <class 'int'>\n",
      "3.0 <class 'float'>\n",
      "3 <class 'str'>\n"
     ]
    }
   ],
   "source": [
    "print(xint,type(xint))\n",
    "print(xfloat,type(xfloat))\n",
    "print(xstr,type(xstr))\n",
    "#We can check the data type of an object using the type() function"
   ]
  },
  {
   "cell_type": "code",
   "execution_count": 104,
   "id": "45f5207c-8d2e-4b33-961b-842ed5a9ebaf",
   "metadata": {},
   "outputs": [
    {
     "data": {
      "text/plain": [
       "(6.0, float)"
      ]
     },
     "execution_count": 104,
     "metadata": {},
     "output_type": "execute_result"
    }
   ],
   "source": [
    "xint + xfloat, type(xint + xfloat)\n",
    "#If we sum an integer with a float the result will be a float"
   ]
  },
  {
   "cell_type": "code",
   "execution_count": 106,
   "id": "abe4f06f-b8bc-4d24-bb28-d6838d839a5c",
   "metadata": {},
   "outputs": [
    {
     "ename": "TypeError",
     "evalue": "can only concatenate str (not \"float\") to str",
     "output_type": "error",
     "traceback": [
      "\u001b[0;31m---------------------------------------------------------------------------\u001b[0m",
      "\u001b[0;31mTypeError\u001b[0m                                 Traceback (most recent call last)",
      "Cell \u001b[0;32mIn[106], line 1\u001b[0m\n\u001b[0;32m----> 1\u001b[0m xstr \u001b[38;5;241m+\u001b[39m xfloat\n",
      "\u001b[0;31mTypeError\u001b[0m: can only concatenate str (not \"float\") to str"
     ]
    }
   ],
   "source": [
    "xstr + xfloat\n",
    "#If we try to add a string to a float we will get a TypeError "
   ]
  },
  {
   "cell_type": "code",
   "execution_count": 108,
   "id": "d52b1918-9246-4429-8d36-7f5f0372726f",
   "metadata": {},
   "outputs": [
    {
     "name": "stdout",
     "output_type": "stream",
     "text": [
      "33.0\n",
      "33\n"
     ]
    }
   ],
   "source": [
    "print(xstr + str(xfloat))\n",
    "print(xstr + str(xint))\n",
    "#However, we can convert both integers and floats into strings. This allows\n",
    "#us to concatenate these values with strings."
   ]
  },
  {
   "cell_type": "code",
   "execution_count": 112,
   "id": "c7ce6a0a-8513-43c8-8a3f-00cd430b3560",
   "metadata": {},
   "outputs": [
    {
     "data": {
      "text/plain": [
       "(6, 6.0)"
      ]
     },
     "execution_count": 112,
     "metadata": {},
     "output_type": "execute_result"
    }
   ],
   "source": [
    "int(xstr) + xint, float(xstr) + xint\n",
    "#Conversely, we can sum strings with integers and floats by converting\n",
    "#strings to integer/float data types"
   ]
  },
  {
   "cell_type": "code",
   "execution_count": 114,
   "id": "6df21be7-1c6c-4074-a22b-9cfb35f993e3",
   "metadata": {},
   "outputs": [
    {
     "ename": "ValueError",
     "evalue": "invalid literal for int() with base 10: 'three'",
     "output_type": "error",
     "traceback": [
      "\u001b[0;31m---------------------------------------------------------------------------\u001b[0m",
      "\u001b[0;31mValueError\u001b[0m                                Traceback (most recent call last)",
      "Cell \u001b[0;32mIn[114], line 2\u001b[0m\n\u001b[1;32m      1\u001b[0m xstr\u001b[38;5;241m=\u001b[39m\u001b[38;5;124m'\u001b[39m\u001b[38;5;124mthree\u001b[39m\u001b[38;5;124m'\u001b[39m\n\u001b[0;32m----> 2\u001b[0m \u001b[38;5;28mint\u001b[39m(xstr)\u001b[38;5;241m+\u001b[39mxint\n",
      "\u001b[0;31mValueError\u001b[0m: invalid literal for int() with base 10: 'three'"
     ]
    }
   ],
   "source": [
    "xstr='three'\n",
    "int(xstr)+xint\n",
    "#Note, that a string must have a numeric data type in order to convert\n",
    "#it to type integer"
   ]
  },
  {
   "cell_type": "code",
   "execution_count": 116,
   "id": "4e762068-1ca2-42e5-94f6-6ceb0cad3353",
   "metadata": {},
   "outputs": [
    {
     "data": {
      "text/plain": [
       "{'One': 1, 'Two': 2, 'Three': 3, 'Four': 4}"
      ]
     },
     "execution_count": 116,
     "metadata": {},
     "output_type": "execute_result"
    }
   ],
   "source": [
    "string_to_value = {\n",
    "    \"One\":1,\n",
    "    \"Two\":2,\n",
    "    \"Three\":3,\n",
    "    \"Four\":4\n",
    "}\n",
    "\n",
    "string_to_value"
   ]
  },
  {
   "cell_type": "code",
   "execution_count": 118,
   "id": "5fc6429c-1991-420f-b959-31ba2153cda2",
   "metadata": {},
   "outputs": [
    {
     "data": {
      "text/plain": [
       "1"
      ]
     },
     "execution_count": 118,
     "metadata": {},
     "output_type": "execute_result"
    }
   ],
   "source": [
    "string_to_value[\"One\"]"
   ]
  },
  {
   "cell_type": "markdown",
   "id": "26aaa74b-e461-488e-8dad-9b1ffb7d938e",
   "metadata": {},
   "source": [
    "Overflow error for a float"
   ]
  },
  {
   "cell_type": "code",
   "execution_count": 122,
   "id": "4ca125b3-b87c-42ca-b7d4-98310ba3665a",
   "metadata": {},
   "outputs": [
    {
     "data": {
      "text/plain": [
       "8.98846567431158e+307"
      ]
     },
     "execution_count": 122,
     "metadata": {},
     "output_type": "execute_result"
    }
   ],
   "source": [
    "2.0**1023\n",
    "#Python has limits on the size of the float values it can store. Any base with a decimal cannot be raised \n",
    "#to a power greater than or equal to the 1024th power"
   ]
  },
  {
   "cell_type": "code",
   "execution_count": 124,
   "id": "bffe777f-0365-41ae-b3a5-14723df72e1e",
   "metadata": {},
   "outputs": [
    {
     "ename": "OverflowError",
     "evalue": "(34, 'Numerical result out of range')",
     "output_type": "error",
     "traceback": [
      "\u001b[0;31m---------------------------------------------------------------------------\u001b[0m",
      "\u001b[0;31mOverflowError\u001b[0m                             Traceback (most recent call last)",
      "Cell \u001b[0;32mIn[124], line 1\u001b[0m\n\u001b[0;32m----> 1\u001b[0m \u001b[38;5;241m2.0\u001b[39m\u001b[38;5;241m*\u001b[39m\u001b[38;5;241m*\u001b[39m\u001b[38;5;241m1024\u001b[39m\n",
      "\u001b[0;31mOverflowError\u001b[0m: (34, 'Numerical result out of range')"
     ]
    }
   ],
   "source": [
    "2.0**1024\n",
    "#This produces an overflow error because the result is out of range"
   ]
  },
  {
   "cell_type": "code",
   "execution_count": null,
   "id": "fba88433-bc5a-43ea-b8c6-03fa1bc52055",
   "metadata": {},
   "outputs": [],
   "source": [
    "2**1024\n",
    "#However, we can raise integer values to whatever power we want without getting an overflow error"
   ]
  }
 ],
 "metadata": {
  "kernelspec": {
   "display_name": "anaconda-panel-2023.05-py310",
   "language": "python",
   "name": "conda-env-anaconda-panel-2023.05-py310-py"
  },
  "language_info": {
   "codemirror_mode": {
    "name": "ipython",
    "version": 3
   },
   "file_extension": ".py",
   "mimetype": "text/x-python",
   "name": "python",
   "nbconvert_exporter": "python",
   "pygments_lexer": "ipython3",
   "version": "3.11.5"
  }
 },
 "nbformat": 4,
 "nbformat_minor": 5
}
